{
 "cells": [
  {
   "cell_type": "markdown",
   "metadata": {},
   "source": [
    "# Executive Summary\n",
    "\n",
    "To facilitate accurate Q&A with financial documents (OCBC credit reports), a Retrieval-Augmented Generation (RAG) approach can be used together with a LLM.  \n",
    "Different retrieval methods were compared and the Maximum Marginal Relevance method was found to work best in retrieving diverse and unique results from vectorstore.  \n",
    "Running a few questions to test showed encouraging answers - the LLM was pulling correct answers from relevant documents and summarizing them in a succinct manner.\n",
    "\n",
    "Basic workflow: Financial text -> Split into chunks + OpenAI embeddings -> Load Vectorstore  \n",
    "Ask questions -> Retrieval from Vectorstore -> Get most relevant embeddings -> Expose to LLM -> Get relevant answer\n",
    "\n",
    "Some possible follow-up that extends beyond the scope of this project:\n",
    "* Can this workflow scale? Three documents were used but how about a hundred?\n",
    "* Chatbot functionality with memory and a clean interface can be built for non-technical stakeholders\n",
    "* How can model performance drift be tracked for LLMs? What if quality of embeddings/results deteriorate over time?\n",
    "* Can tabular data be created by specifically specifying the output? This could serve as input to ML/DL predictive models.\n",
    "\n",
    "Inspired by: https://learn.deeplearning.ai/langchain-chat-with-your-data/"
   ]
  },
  {
   "cell_type": "markdown",
   "metadata": {},
   "source": [
    "## Load libraries"
   ]
  },
  {
   "cell_type": "code",
   "execution_count": 1,
   "metadata": {},
   "outputs": [],
   "source": [
    "import os\n",
    "import numpy as np\n",
    "from dotenv import load_dotenv, find_dotenv\n",
    "from langchain.document_loaders import PyMuPDFLoader\n",
    "from langchain.text_splitter import RecursiveCharacterTextSplitter, NLTKTextSplitter\n",
    "from langchain.embeddings.openai import OpenAIEmbeddings\n",
    "from langchain.vectorstores import Chroma\n",
    "from langchain.chat_models import ChatOpenAI\n",
    "from langchain.retrievers import ContextualCompressionRetriever\n",
    "from langchain.retrievers.document_compressors import LLMChainExtractor\n",
    "from langchain.chains import RetrievalQA\n",
    "from langchain.prompts import PromptTemplate\n",
    "\n",
    "\n",
    "load_dotenv(find_dotenv())\n",
    "OPENAI_API_KEY = os.environ[\"OPENAI_API_KEY\"]\n",
    "# os.environ[\"OPENAI_API_KEY\"] = your_key_here"
   ]
  },
  {
   "cell_type": "markdown",
   "metadata": {},
   "source": [
    "## Initialize LLM"
   ]
  },
  {
   "cell_type": "code",
   "execution_count": 2,
   "metadata": {},
   "outputs": [],
   "source": [
    "# initialize LLM\n",
    "llm = ChatOpenAI(\n",
    "    temperature=0,\n",
    "    openai_api_key=OPENAI_API_KEY,\n",
    "    model_name=\"gpt-4\",\n",
    "    request_timeout=600,\n",
    ")"
   ]
  },
  {
   "cell_type": "markdown",
   "metadata": {},
   "source": [
    "## Select an appropriate text splitter"
   ]
  },
  {
   "attachments": {},
   "cell_type": "markdown",
   "metadata": {},
   "source": [
    "### Load a single PDF"
   ]
  },
  {
   "cell_type": "code",
   "execution_count": 3,
   "metadata": {},
   "outputs": [],
   "source": [
    "loader = PyMuPDFLoader(\"../data/sg_credit_outlook_1H2023.pdf\")\n",
    "pages = loader.load_and_split()"
   ]
  },
  {
   "cell_type": "code",
   "execution_count": 4,
   "metadata": {},
   "outputs": [
    {
     "data": {
      "text/plain": [
       "122"
      ]
     },
     "execution_count": 4,
     "metadata": {},
     "output_type": "execute_result"
    }
   ],
   "source": [
    "len(pages)"
   ]
  },
  {
   "cell_type": "code",
   "execution_count": 5,
   "metadata": {},
   "outputs": [
    {
     "data": {
      "text/plain": [
       "'OCBC CREDIT RESEARCH \\nSGD Credit Outlook 2023 \\n \\n Wednesday, January 04, 2023 \\n \\nTreasury Research & Strategy                                                                                                                                    i \\n \\n \\n \\nTreasury Advisory \\nCorporate FX & Structured \\nProducts  \\nTel: 6349-1888 / 1881 \\n \\nFixed Income & Structured \\nProducts \\nTel: 6349-1810 \\n \\nInterest Rate Derivatives \\nTel: 6349-1899 \\n \\nInvestments & Structured \\nProducts \\nTel: 6349-1886 \\n \\n \\n \\n \\nOCBC Cre'"
      ]
     },
     "execution_count": 5,
     "metadata": {},
     "output_type": "execute_result"
    }
   ],
   "source": [
    "pages[0].page_content[0:500]"
   ]
  },
  {
   "cell_type": "code",
   "execution_count": 6,
   "metadata": {},
   "outputs": [
    {
     "data": {
      "text/plain": [
       "{'source': '../data/sg_credit_outlook_1H2023.pdf',\n",
       " 'file_path': '../data/sg_credit_outlook_1H2023.pdf',\n",
       " 'page': 80,\n",
       " 'total_pages': 81,\n",
       " 'format': 'PDF 1.7',\n",
       " 'title': 'Credit Outlook –',\n",
       " 'author': 'trt2',\n",
       " 'subject': '',\n",
       " 'keywords': '',\n",
       " 'creator': 'Microsoft® Word for Microsoft 365',\n",
       " 'producer': 'Microsoft® Word for Microsoft 365',\n",
       " 'creationDate': \"D:20230104164538+08'00'\",\n",
       " 'modDate': \"D:20230105095819+08'00'\",\n",
       " 'trapped': ''}"
      ]
     },
     "execution_count": 6,
     "metadata": {},
     "output_type": "execute_result"
    }
   ],
   "source": [
    "pages[0].metadata\n",
    "pages[120].metadata"
   ]
  },
  {
   "attachments": {},
   "cell_type": "markdown",
   "metadata": {},
   "source": [
    "### Compare between text splitters\n",
    "\n",
    "Let's choose which TextSplitter to use. Here I'll compare results between `RecursiveCharacterTextSplitter` and `NLTKTextSplitter`."
   ]
  },
  {
   "cell_type": "code",
   "execution_count": 7,
   "metadata": {},
   "outputs": [],
   "source": [
    "# small paramaters for now to conveniently assess results\n",
    "chunk_size = 1000\n",
    "chunk_overlap = 200\n",
    "\n",
    "r_splitter = RecursiveCharacterTextSplitter(\n",
    "    chunk_size=chunk_size,\n",
    "    chunk_overlap=chunk_overlap,\n",
    "    separators=[\"\\n\\n\", \"\\n\", \" \", \"\"],  # default values\n",
    ")\n",
    "\n",
    "nltk_splitter = NLTKTextSplitter(chunk_size=chunk_size, chunk_overlap=chunk_overlap)"
   ]
  },
  {
   "cell_type": "code",
   "execution_count": 8,
   "metadata": {},
   "outputs": [
    {
     "data": {
      "text/plain": [
       "'OCBC CREDIT RESEARCH \\nSGD Credit Outlook 2023 \\n \\n Wednesday, January 04, 2023 \\n \\nTreasury Research & Strategy                                                                                                                                    18 \\n• Assuming new debt for the purpose of the redemption of the perpetuals will increase LMRT leverage and reduce the debt \\nheadroom available for the development of LMRT’s existing assets during the uncertain macroeconomic outlook. \\n• Current market conditions are not favourable for LMIR Trust for the issuance of perpetual securities at a lower yield than the \\nreset distribution rate. \\n \\nOCBC Credit Research commentary: \\n• Perpetual reset date coincided with call date, distribution rate stepped up to 8.096% from only 6.6%. \\n• In our view LMRT would have found it difficult to assess primary markets without external guarantees, given the protracted \\nrecovery at LMRT’s underlying properties. LMRT is facing a tight adjusted interest coverage ratio, which suggest an elevated \\nrisk of non-payment of perpetual distribution over a 12-month outlook. The issuer’s USD bonds are also trading at stressed \\nlevels.  \\nFrasers Property Ltd (“FPL”) \\nFPLSP 4.38%-PERP \\n17-Jan-2023 \\nHave announced will not \\ncall on first call date \\nStated reasons for non-call:  \\n• In arriving at the decision not to redeem the perpetual securities on the first call date, the longer-term interests of the issuer and \\nthe current macroeconomic and interest rate environments were taken into consideration, including: \\n• Diversification of sources of funding. \\n• Current market conditions for the issuance of similar yielding perpetual securities. \\n \\nOCBC Credit Research commentary: \\n• Perpetual distribution rate reset date does not coincide with call date, distribution rate would remain at 4.38%. The first reset \\ndate only falls on January 2028. FPL enjoys cost savings by not replacing the perpetual.  \\n• Redeemed its FPLSP 3.95%-PERP in October 2022 which was structured with reset. \\nGuocoLand Ltd (“GUOL”) \\nGUOLSP 4.6%-PERP \\n23-Jan-2023 \\nHave announced will not \\ncall on first call date \\nStated reasons for non-call:  \\n• General statement that the non-call was in view of the current interest rate environment. \\n• Maintains flexibility to exercise the call on any distribution payment date. \\n \\nOCBC Credit Research commentary: \\n• Perpetual distribution rate reset date does not coincide with call date, distribution rate would remain at 4.6%. The first reset date \\nonly falls in January 2025. GUOL enjoys cost savings by not replacing the perpetual. \\nSource: Company, Bloomberg, OCBC Credit Research \\n \\nIssuers who had opted not to call their perpetuals would likely find difficulty in raising a new perpetual, until the \\nexisting perpetuals are redeemed, in our view. A non-call effectively tilts the perpetual into an “equity-like” instrument \\nwith no maturity, albeit without equity upside that comes with business growth. This is comparable to preferred stock, \\nin our'"
      ]
     },
     "execution_count": 8,
     "metadata": {},
     "output_type": "execute_result"
    }
   ],
   "source": [
    "# random page\n",
    "snippet = pages[25].page_content[0:3000]\n",
    "snippet"
   ]
  },
  {
   "cell_type": "code",
   "execution_count": 9,
   "metadata": {},
   "outputs": [
    {
     "data": {
      "text/plain": [
       "4"
      ]
     },
     "execution_count": 9,
     "metadata": {},
     "output_type": "execute_result"
    }
   ],
   "source": [
    "r_res = r_splitter.split_text(snippet)\n",
    "len(r_res)"
   ]
  },
  {
   "cell_type": "code",
   "execution_count": 10,
   "metadata": {},
   "outputs": [
    {
     "data": {
      "text/plain": [
       "['OCBC CREDIT RESEARCH \\nSGD Credit Outlook 2023 \\n \\n Wednesday, January 04, 2023 \\n \\nTreasury Research & Strategy                                                                                                                                    18 \\n• Assuming new debt for the purpose of the redemption of the perpetuals will increase LMRT leverage and reduce the debt \\nheadroom available for the development of LMRT’s existing assets during the uncertain macroeconomic outlook. \\n• Current market conditions are not favourable for LMIR Trust for the issuance of perpetual securities at a lower yield than the \\nreset distribution rate. \\n \\nOCBC Credit Research commentary: \\n• Perpetual reset date coincided with call date, distribution rate stepped up to 8.096% from only 6.6%. \\n• In our view LMRT would have found it difficult to assess primary markets without external guarantees, given the protracted',\n",
       " '• In our view LMRT would have found it difficult to assess primary markets without external guarantees, given the protracted \\nrecovery at LMRT’s underlying properties. LMRT is facing a tight adjusted interest coverage ratio, which suggest an elevated \\nrisk of non-payment of perpetual distribution over a 12-month outlook. The issuer’s USD bonds are also trading at stressed \\nlevels.  \\nFrasers Property Ltd (“FPL”) \\nFPLSP 4.38%-PERP \\n17-Jan-2023 \\nHave announced will not \\ncall on first call date \\nStated reasons for non-call:  \\n• In arriving at the decision not to redeem the perpetual securities on the first call date, the longer-term interests of the issuer and \\nthe current macroeconomic and interest rate environments were taken into consideration, including: \\n• Diversification of sources of funding. \\n• Current market conditions for the issuance of similar yielding perpetual securities. \\n \\nOCBC Credit Research commentary:',\n",
       " '• Diversification of sources of funding. \\n• Current market conditions for the issuance of similar yielding perpetual securities. \\n \\nOCBC Credit Research commentary: \\n• Perpetual distribution rate reset date does not coincide with call date, distribution rate would remain at 4.38%. The first reset \\ndate only falls on January 2028. FPL enjoys cost savings by not replacing the perpetual.  \\n• Redeemed its FPLSP 3.95%-PERP in October 2022 which was structured with reset. \\nGuocoLand Ltd (“GUOL”) \\nGUOLSP 4.6%-PERP \\n23-Jan-2023 \\nHave announced will not \\ncall on first call date \\nStated reasons for non-call:  \\n• General statement that the non-call was in view of the current interest rate environment. \\n• Maintains flexibility to exercise the call on any distribution payment date. \\n \\nOCBC Credit Research commentary: \\n• Perpetual distribution rate reset date does not coincide with call date, distribution rate would remain at 4.6%. The first reset date',\n",
       " 'OCBC Credit Research commentary: \\n• Perpetual distribution rate reset date does not coincide with call date, distribution rate would remain at 4.6%. The first reset date \\nonly falls in January 2025. GUOL enjoys cost savings by not replacing the perpetual. \\nSource: Company, Bloomberg, OCBC Credit Research \\n \\nIssuers who had opted not to call their perpetuals would likely find difficulty in raising a new perpetual, until the \\nexisting perpetuals are redeemed, in our view. A non-call effectively tilts the perpetual into an “equity-like” instrument \\nwith no maturity, albeit without equity upside that comes with business growth. This is comparable to preferred stock, \\nin our']"
      ]
     },
     "execution_count": 10,
     "metadata": {},
     "output_type": "execute_result"
    }
   ],
   "source": [
    "r_res"
   ]
  },
  {
   "cell_type": "code",
   "execution_count": 11,
   "metadata": {},
   "outputs": [
    {
     "data": {
      "text/plain": [
       "4"
      ]
     },
     "execution_count": 11,
     "metadata": {},
     "output_type": "execute_result"
    }
   ],
   "source": [
    "nltk_res = nltk_splitter.split_text(snippet)\n",
    "len(nltk_res)"
   ]
  },
  {
   "cell_type": "code",
   "execution_count": 12,
   "metadata": {},
   "outputs": [
    {
     "data": {
      "text/plain": [
       "['OCBC CREDIT RESEARCH \\nSGD Credit Outlook 2023 \\n \\n Wednesday, January 04, 2023 \\n \\nTreasury Research & Strategy                                                                                                                                    18 \\n• Assuming new debt for the purpose of the redemption of the perpetuals will increase LMRT leverage and reduce the debt \\nheadroom available for the development of LMRT’s existing assets during the uncertain macroeconomic outlook.\\n\\n• Current market conditions are not favourable for LMIR Trust for the issuance of perpetual securities at a lower yield than the \\nreset distribution rate.\\n\\nOCBC Credit Research commentary: \\n• Perpetual reset date coincided with call date, distribution rate stepped up to 8.096% from only 6.6%.\\n\\n• In our view LMRT would have found it difficult to assess primary markets without external guarantees, given the protracted \\nrecovery at LMRT’s underlying properties.',\n",
       " '• In our view LMRT would have found it difficult to assess primary markets without external guarantees, given the protracted \\nrecovery at LMRT’s underlying properties.\\n\\nLMRT is facing a tight adjusted interest coverage ratio, which suggest an elevated \\nrisk of non-payment of perpetual distribution over a 12-month outlook.\\n\\nThe issuer’s USD bonds are also trading at stressed \\nlevels.\\n\\nFrasers Property Ltd (“FPL”) \\nFPLSP 4.38%-PERP \\n17-Jan-2023 \\nHave announced will not \\ncall on first call date \\nStated reasons for non-call:  \\n• In arriving at the decision not to redeem the perpetual securities on the first call date, the longer-term interests of the issuer and \\nthe current macroeconomic and interest rate environments were taken into consideration, including: \\n• Diversification of sources of funding.\\n\\n• Current market conditions for the issuance of similar yielding perpetual securities.',\n",
       " '• Current market conditions for the issuance of similar yielding perpetual securities.\\n\\nOCBC Credit Research commentary: \\n• Perpetual distribution rate reset date does not coincide with call date, distribution rate would remain at 4.38%.\\n\\nThe first reset \\ndate only falls on January 2028.\\n\\nFPL enjoys cost savings by not replacing the perpetual.\\n\\n• Redeemed its FPLSP 3.95%-PERP in October 2022 which was structured with reset.\\n\\nGuocoLand Ltd (“GUOL”) \\nGUOLSP 4.6%-PERP \\n23-Jan-2023 \\nHave announced will not \\ncall on first call date \\nStated reasons for non-call:  \\n• General statement that the non-call was in view of the current interest rate environment.\\n\\n• Maintains flexibility to exercise the call on any distribution payment date.\\n\\nOCBC Credit Research commentary: \\n• Perpetual distribution rate reset date does not coincide with call date, distribution rate would remain at 4.6%.\\n\\nThe first reset date \\nonly falls in January 2025.\\n\\nGUOL enjoys cost savings by not replacing the perpetual.',\n",
       " 'The first reset date \\nonly falls in January 2025.\\n\\nGUOL enjoys cost savings by not replacing the perpetual.\\n\\nSource: Company, Bloomberg, OCBC Credit Research \\n \\nIssuers who had opted not to call their perpetuals would likely find difficulty in raising a new perpetual, until the \\nexisting perpetuals are redeemed, in our view.\\n\\nA non-call effectively tilts the perpetual into an “equity-like” instrument \\nwith no maturity, albeit without equity upside that comes with business growth.\\n\\nThis is comparable to preferred stock, \\nin our']"
      ]
     },
     "execution_count": 12,
     "metadata": {},
     "output_type": "execute_result"
    }
   ],
   "source": [
    "nltk_res"
   ]
  },
  {
   "cell_type": "markdown",
   "metadata": {},
   "source": [
    "The ending of each split chunk by `RecursiveCharacterTextSplitter` doesn't coincide with the end of a sentence/puncutuation, whereas `NLTKTextSplitter` captures that nuance.  \n",
    "Let's go with `NLTKTextSplitter`."
   ]
  },
  {
   "cell_type": "markdown",
   "metadata": {},
   "source": [
    "### Split PDF and assess results"
   ]
  },
  {
   "cell_type": "code",
   "execution_count": 13,
   "metadata": {},
   "outputs": [
    {
     "name": "stderr",
     "output_type": "stream",
     "text": [
      "Created a chunk of size 3503, which is longer than the specified 3000\n"
     ]
    }
   ],
   "source": [
    "chunk_size = 3000\n",
    "chunk_overlap = chunk_size * 0.1\n",
    "\n",
    "nltk_splitter = NLTKTextSplitter(chunk_size=chunk_size, chunk_overlap=chunk_overlap)\n",
    "\n",
    "split_res = nltk_splitter.split_documents(pages)"
   ]
  },
  {
   "cell_type": "code",
   "execution_count": 14,
   "metadata": {},
   "outputs": [
    {
     "data": {
      "text/plain": [
       "182"
      ]
     },
     "execution_count": 14,
     "metadata": {},
     "output_type": "execute_result"
    }
   ],
   "source": [
    "len(split_res)"
   ]
  },
  {
   "cell_type": "code",
   "execution_count": 15,
   "metadata": {},
   "outputs": [
    {
     "data": {
      "text/plain": [
       "Document(page_content='OCBC CREDIT RESEARCH \\nSGD Credit Outlook 2023 \\n \\n Wednesday, January 04, 2023 \\n \\nTreasury Research & Strategy                                                                                                                                    25 \\nChina \\n• \\n2018: Announced non-participation in the pilot \\nphase of the CORSIA \\n• \\nSep: Released \"2022 China Civil Aviation Green \\nDevelopment Policy and Action\", targeting a \\ncumulative use of 50,000 tons of SAF by 2025.\\n\\nSource: ICAO  \\n \\nSingapore is well-positioned to become an established, regional petrochemical hub that can offer a conducive \\nenvironment for developing and introducing sustainable aviation products.\\n\\nFor instance, Neste, the world’s largest \\nproducer of SAF, is expanding its production capacity in Singapore in 2023.\\n\\nIt aims to be able to roll out as much as 1 \\nmillion metric tons of SAF per annum at its facility, making Singapore Neste’s main SAF production site globally.\\n\\nShell \\nalso has plans to build a 550,000-ton a year biofuels plant in Singapore, which would supply SAF to air travel hubs \\nincluding Changi Airport and Hong Kong Airport.\\n\\nChangi Airport also has an ongoing collaboration with Exxon Mobil, \\ncreating a pilot program providing sustainable aviation fuel for Singapore Airlines and Scoot flights from Changi Airport \\nfrom July 2022.\\n\\nInvestment into Aircraft Technologies \\nJet fuel has a major impact on airline profitability, representing an estimated one-quarter of direct operating costs.\\n\\nEvery kilogram of kerosene produces 3.15 kilograms of CO2.\\n\\nAirlines therefore have an intrinsic motivation for adopting \\nmore fuel-efficient flying, taxiing and airport operations.\\n\\nThis can be mainly done through the replacement of older aircraft with newer, more fuel-efficient designs.\\n\\nEach new \\ngeneration of aircraft is roughly 15%-20% more fuel efficient.\\n\\nKey technologies include the use of more fuel-efficient \\nengines, improved aerodynamics, lightweight materials, plus advanced systems, and integrated design.\\n\\nHistorically, \\nfleet upgrading has led to modern aircrafts producing 80% less CO2 per seat than the first jets in the 1950s.\\n\\nReplacing \\nthe current commercial aircraft fleet with the most fuel-efficient aircraft in service today would also reduce fuel \\nconsumption by about 20%.\\n\\nThe IATA estimates that around 16,000 commercial passenger and cargo planes have been retired worldwide in the \\npast 35 years.\\n\\nMeanwhile, every year up to 700 jets are getting closer to the end of their lifespan.\\n\\nAccording to the \\nIATA, the global pandemic has prompted airlines worldwide to bring forward early retirement programs of older and \\nless efficient planes, especially wide-body passenger aircraft.\\n\\nBut the aircraft decommissioning process must be \\nproperly managed to prevent environmental and flight safety-related risks, according to the IATA.\\n\\nIncreased technological innovations can also increase fuel efficiency.', metadata={'source': '../data/sg_credit_outlook_1H2023.pdf', 'file_path': '../data/sg_credit_outlook_1H2023.pdf', 'page': 24, 'total_pages': 81, 'format': 'PDF 1.7', 'title': 'Credit Outlook –', 'author': 'trt2', 'subject': '', 'keywords': '', 'creator': 'Microsoft® Word for Microsoft 365', 'producer': 'Microsoft® Word for Microsoft 365', 'creationDate': \"D:20230104164538+08'00'\", 'modDate': \"D:20230105095819+08'00'\", 'trapped': ''})"
      ]
     },
     "execution_count": 15,
     "metadata": {},
     "output_type": "execute_result"
    }
   ],
   "source": [
    "split_res[50]"
   ]
  },
  {
   "cell_type": "markdown",
   "metadata": {},
   "source": [
    "## Load all PDFs and split"
   ]
  },
  {
   "cell_type": "code",
   "execution_count": 16,
   "metadata": {},
   "outputs": [
    {
     "data": {
      "text/plain": [
       "[<langchain.document_loaders.pdf.PyMuPDFLoader at 0x2304ec3bb50>,\n",
       " <langchain.document_loaders.pdf.PyMuPDFLoader at 0x2304ec50350>,\n",
       " <langchain.document_loaders.pdf.PyMuPDFLoader at 0x2304fd8b8d0>]"
      ]
     },
     "execution_count": 16,
     "metadata": {},
     "output_type": "execute_result"
    }
   ],
   "source": [
    "path = \"../data/\"\n",
    "\n",
    "loaders = []\n",
    "\n",
    "for file in os.listdir(path):\n",
    "    if file.endswith(\".pdf\"):\n",
    "        loaders.append(PyMuPDFLoader(os.path.join(path, file)))\n",
    "\n",
    "loaders"
   ]
  },
  {
   "cell_type": "code",
   "execution_count": 17,
   "metadata": {},
   "outputs": [
    {
     "data": {
      "text/plain": [
       "208"
      ]
     },
     "execution_count": 17,
     "metadata": {},
     "output_type": "execute_result"
    }
   ],
   "source": [
    "docs = []\n",
    "for loader in loaders:\n",
    "    docs.extend(loader.load())\n",
    "\n",
    "len(docs)"
   ]
  },
  {
   "cell_type": "code",
   "execution_count": 18,
   "metadata": {},
   "outputs": [
    {
     "name": "stderr",
     "output_type": "stream",
     "text": [
      "Created a chunk of size 3503, which is longer than the specified 3000\n"
     ]
    }
   ],
   "source": [
    "# splits docs\n",
    "\n",
    "splits = nltk_splitter.split_documents(docs)"
   ]
  },
  {
   "cell_type": "code",
   "execution_count": 19,
   "metadata": {},
   "outputs": [
    {
     "data": {
      "text/plain": [
       "352"
      ]
     },
     "execution_count": 19,
     "metadata": {},
     "output_type": "execute_result"
    }
   ],
   "source": [
    "len(splits)"
   ]
  },
  {
   "cell_type": "markdown",
   "metadata": {},
   "source": [
    "## Use OpenAI word embeddings"
   ]
  },
  {
   "cell_type": "code",
   "execution_count": 20,
   "metadata": {},
   "outputs": [],
   "source": [
    "embedding = OpenAIEmbeddings()"
   ]
  },
  {
   "cell_type": "code",
   "execution_count": 21,
   "metadata": {},
   "outputs": [],
   "source": [
    "sentence1 = (\n",
    "    \"The sun sets in the evening, casting a warm orange glow across the horizon.\"\n",
    ")\n",
    "sentence2 = \"Twilight descends upon the land as the day draws to a close, painting the sky with hues of red and gold.\"\n",
    "sentence3 = \"Baby JJ crawled up the mattress to get his milk.\""
   ]
  },
  {
   "cell_type": "code",
   "execution_count": 22,
   "metadata": {},
   "outputs": [],
   "source": [
    "embedding1 = embedding.embed_query(sentence1)\n",
    "embedding2 = embedding.embed_query(sentence2)\n",
    "embedding3 = embedding.embed_query(sentence3)"
   ]
  },
  {
   "cell_type": "code",
   "execution_count": 23,
   "metadata": {},
   "outputs": [
    {
     "data": {
      "text/plain": [
       "0.903089832355181"
      ]
     },
     "execution_count": 23,
     "metadata": {},
     "output_type": "execute_result"
    }
   ],
   "source": [
    "np.dot(embedding1, embedding2)"
   ]
  },
  {
   "cell_type": "code",
   "execution_count": 24,
   "metadata": {},
   "outputs": [
    {
     "data": {
      "text/plain": [
       "(0.7355978857170626, 0.7370830702024485)"
      ]
     },
     "execution_count": 24,
     "metadata": {},
     "output_type": "execute_result"
    }
   ],
   "source": [
    "np.dot(embedding1, embedding3), np.dot(embedding2, embedding3),"
   ]
  },
  {
   "cell_type": "markdown",
   "metadata": {},
   "source": [
    "## Initialize Vectorstore"
   ]
  },
  {
   "cell_type": "markdown",
   "metadata": {},
   "source": [
    "Embeddings databases (also known as vector databases/stores) store embeddings and allow you to search by nearest neighbors rather than by substrings like a traditional database.  \n",
    "Here, Chroma is used."
   ]
  },
  {
   "cell_type": "code",
   "execution_count": 25,
   "metadata": {},
   "outputs": [],
   "source": [
    "persist_directory = \"docs/chroma\""
   ]
  },
  {
   "cell_type": "code",
   "execution_count": 26,
   "metadata": {},
   "outputs": [
    {
     "name": "stderr",
     "output_type": "stream",
     "text": [
      "100%|██████████| 1/1 [00:05<00:00,  5.68s/it]\n"
     ]
    }
   ],
   "source": [
    "vectordb = Chroma.from_documents(\n",
    "    documents=splits, embedding=embedding, persist_directory=persist_directory\n",
    ")\n",
    "\n",
    "vectordb.persist()"
   ]
  },
  {
   "cell_type": "code",
   "execution_count": 27,
   "metadata": {},
   "outputs": [
    {
     "name": "stdout",
     "output_type": "stream",
     "text": [
      "1056\n"
     ]
    }
   ],
   "source": [
    "print(vectordb._collection.count())"
   ]
  },
  {
   "cell_type": "code",
   "execution_count": 28,
   "metadata": {},
   "outputs": [
    {
     "data": {
      "text/plain": [
       "False"
      ]
     },
     "execution_count": 28,
     "metadata": {},
     "output_type": "execute_result"
    }
   ],
   "source": [
    "# does vectordb count tally with total splits?\n",
    "vectordb._collection.count() == len(splits)"
   ]
  },
  {
   "cell_type": "markdown",
   "metadata": {},
   "source": [
    "## Comparing retrieval methods\n"
   ]
  },
  {
   "cell_type": "markdown",
   "metadata": {},
   "source": [
    "With the documents and embeddings in the vectorstore, there are several ways to retrieve this information.  \n",
    "Here three methods are compared: `similarity_search`, `max_marginal_relevance_search` (MMR) and `ContextualCompressionRetriever`\n",
    "\n",
    "Similarity search: Selects examples based on similarity to the inputs. It does this by finding the examples with the embeddings that have the greatest cosine similarity with the inputs.\n",
    "https://python.langchain.com/docs/modules/model_io/prompts/example_selectors/similarity\n",
    "\n",
    "MMR: Selects examples based on a combination of which examples are most similar to the inputs, while also optimizing for diversity.  \n",
    "It does this by finding the examples with the embeddings that have the greatest cosine similarity with the inputs, and then iteratively adding them while penalizing them for closeness to already selected examples.\n",
    "https://python.langchain.com/docs/modules/model_io/prompts/example_selectors/mmr"
   ]
  },
  {
   "cell_type": "markdown",
   "metadata": {},
   "source": [
    "### Similarity Search"
   ]
  },
  {
   "cell_type": "code",
   "execution_count": 29,
   "metadata": {},
   "outputs": [
    {
     "name": "stderr",
     "output_type": "stream",
     "text": [
      "100%|██████████| 1/1 [00:01<00:00,  1.13s/it]\n"
     ]
    }
   ],
   "source": [
    "texts = [\n",
    "    \"\"\"The Amanita phalloides has a large and imposing epigeous (aboveground) fruiting body (basidiocarp).\"\"\",\n",
    "    \"\"\"A mushroom with a large fruiting body is the Amanita phalloides. Some varieties are all-white.\"\"\",\n",
    "    \"\"\"A. phalloides, a.k.a Death Cap, is one of the most poisonous of all known mushrooms.\"\"\",\n",
    "]\n",
    "\n",
    "smalldb = Chroma.from_texts(texts, embedding=embedding)"
   ]
  },
  {
   "cell_type": "code",
   "execution_count": 30,
   "metadata": {},
   "outputs": [],
   "source": [
    "question = \"Tell me about all-white mushrooms with large fruiting bodies\""
   ]
  },
  {
   "cell_type": "code",
   "execution_count": 31,
   "metadata": {},
   "outputs": [
    {
     "data": {
      "text/plain": [
       "[Document(page_content='A mushroom with a large fruiting body is the Amanita phalloides. Some varieties are all-white.', metadata={}),\n",
       " Document(page_content='The Amanita phalloides has a large and imposing epigeous (aboveground) fruiting body (basidiocarp).', metadata={})]"
      ]
     },
     "execution_count": 31,
     "metadata": {},
     "output_type": "execute_result"
    }
   ],
   "source": [
    "smalldb.similarity_search(question, k=2)"
   ]
  },
  {
   "cell_type": "markdown",
   "metadata": {},
   "source": [
    "### Maximum Marginal Relevance"
   ]
  },
  {
   "cell_type": "markdown",
   "metadata": {},
   "source": [
    "MMR penalizes the second text due to its similarity with the first, and instead returns the third text which is related yet different.  \n",
    "Let's try it on our docs."
   ]
  },
  {
   "cell_type": "code",
   "execution_count": 32,
   "metadata": {},
   "outputs": [
    {
     "data": {
      "text/plain": [
       "[Document(page_content='A mushroom with a large fruiting body is the Amanita phalloides. Some varieties are all-white.', metadata={}),\n",
       " Document(page_content='A. phalloides, a.k.a Death Cap, is one of the most poisonous of all known mushrooms.', metadata={})]"
      ]
     },
     "execution_count": 32,
     "metadata": {},
     "output_type": "execute_result"
    }
   ],
   "source": [
    "smalldb.max_marginal_relevance_search(question, k=2, fetch_k=3)"
   ]
  },
  {
   "cell_type": "code",
   "execution_count": 33,
   "metadata": {},
   "outputs": [],
   "source": [
    "docs_qn = \"What is the latest update for China Evergrande?\""
   ]
  },
  {
   "cell_type": "markdown",
   "metadata": {},
   "source": [
    "Using similarity search, the first two search results are the same."
   ]
  },
  {
   "cell_type": "code",
   "execution_count": 34,
   "metadata": {},
   "outputs": [
    {
     "data": {
      "text/plain": [
       "['What next for Evergrande?\\n\\nOn 3 December 2021, EVERRE announced that it may not have sufficient funds to perform its \\nfinancial obligations given the group’s current liquidity situation and planned to work with creditors on a restructuring plan \\nfor its offshore debt.\\n\\nOn 6 December 2021, the compan',\n",
       " 'What next for Evergrande?\\n\\nOn 3 December 2021, EVERRE announced that it may not have sufficient funds to perform its \\nfinancial obligations given the group’s current liquidity situation and planned to work with creditors on a restructuring plan \\nfor its offshore debt.\\n\\nOn 6 December 2021, the compan',\n",
       " 'What next for Evergrande?\\n\\nOn 3 December 2021, EVERRE announced that it may not have sufficient funds to perform its \\nfinancial obligations given the group’s current liquidity situation and planned to work with creditors on a restructuring plan \\nfor its offshore debt.\\n\\nOn 6 December 2021, the compan']"
      ]
     },
     "execution_count": 34,
     "metadata": {},
     "output_type": "execute_result"
    }
   ],
   "source": [
    "ss_res = vectordb.similarity_search(docs_qn, k=3)\n",
    "[res.page_content[:300] for res in ss_res[:3]]"
   ]
  },
  {
   "cell_type": "markdown",
   "metadata": {},
   "source": [
    "With mmr, there are no repeating results."
   ]
  },
  {
   "cell_type": "code",
   "execution_count": 35,
   "metadata": {},
   "outputs": [
    {
     "data": {
      "text/plain": [
       "['What next for Evergrande?\\n\\nOn 3 December 2021, EVERRE announced that it may not have sufficient funds to perform its \\nfinancial obligations given the group’s current liquidity situation and planned to',\n",
       " 'Sector wide issue though China Evergrande is emblematic of the situation: What started at EVERRE in terms of liquidity \\nstress has snowballed to the rest of the market.\\n\\nIn part, the industry challeng',\n",
       " 'OCBC CREDIT RESEARCH \\nSGD Credit Outlook 2022 \\n \\nFriday, December 31, 2021 \\n \\nTreasury Research & Strategy                                                                                              ']"
      ]
     },
     "execution_count": 35,
     "metadata": {},
     "output_type": "execute_result"
    }
   ],
   "source": [
    "mmr_res = vectordb.max_marginal_relevance_search(docs_qn, k=3, fetch_k=10)\n",
    "[res.page_content[:200] for res in mmr_res[:3]]"
   ]
  },
  {
   "cell_type": "code",
   "execution_count": 36,
   "metadata": {},
   "outputs": [
    {
     "data": {
      "text/plain": [
       "'OCBC CREDIT RESEARCH \\nSGD Credit Outlook 2022 \\n \\nFriday, December 31, 2021 \\n \\nTreasury Research & Strategy                                                                                                                                    31 \\n \\nFigure 24: China Residential Buildings Price Change (70 Cities) \\n \\nSource: National Bureau of Statistics \\n \\nWhat we can glean from the situation: Aside from an adverse industry outlook, certain company-level characteristics have \\nexacerbated the situation.\\n\\nWhile EVERRE is the largest issuer with ~USD19bn of bonds outstanding (including those issued \\nby Scenery Journey Ltd, an indirect wholly-owned subsidiary of EVERRE), certain of the credit considerations leading to its \\nvulnerabilities in an adverse situation are shared by other bond issuers.\\n\\nAside from USD-bonds, EVERRE also has onshore \\nbonds issued by Hengda Real Estate Group Company Limited (“Hengda”) where Hengda is 59.9%-owned by EVERRE as at \\n31 December 2020.\\n\\nWhat you see may not be what it is: EVERRE’s latest available unaudited consolidated balance sheet as at 30 June 2021 \\nshowed total liabilities of RMB2.0 trillion.\\n\\nHowever, various media reports have surfaced that EVERRE had financed certain \\nparts of its business through wealth management products (“WMP”) mainly sold to retail investors including employees.\\n\\nIt \\nis still unclear to us what are the exact terms of such WMP and whether these are outright guaranteed by subsidiaries.\\n\\nWe \\ndo know however that we were unable to find much disclosure on the WMP in the company’s consolidated financials even \\nif these financials were audited by well-known auditors.\\n\\nIn early-September 2021, we opined in our Special Interest \\nCommentary piece that the company also has various other obligations that may still materialise if certain conditions are \\nunfulfilled.\\n\\n“Private bonds” and other liabilities have caught market by surprise: In end-September 2021, bondholders of \\nJumbo Fortune Enterprises (“Jumbo”), an entity said to have issued bonds guaranteed by EVERRE, claimed that they were \\nunpaid.\\n\\nWhile there was some mention of guarantees in relation to cooperation parties, joint ventures and associates, \\nthere was no explicit mention of a Jumbo in EVERRE’s disclosures.\\n\\nAround the same time, a smaller developer Fantasia \\nHoldings Group announced that it had not repaid bondholders who had exercised a put option on a private bond \\nguaranteed by the company.\\n\\nThis was then followed by Kaisa Group Holdings Ltd who announced that it had missed \\npayments on WMP.\\n\\nThis points towards the possibility that publicly available disclosures used by investors to track the \\ncredit health of property developer issuers may understate the actual level of liabilities.\\n\\nWhile certain private debt funds \\n(with their higher demands on information rights) may still be willing to provide bilateral financing for developers, it is hard \\nfor us to imagine traditional bond investors gaining comfort around the opacity.'"
      ]
     },
     "execution_count": 36,
     "metadata": {},
     "output_type": "execute_result"
    }
   ],
   "source": [
    "# take a closer look at the third search result\n",
    "mmr_res[2].page_content"
   ]
  },
  {
   "cell_type": "markdown",
   "metadata": {},
   "source": [
    "One thing I observed: A low `fetch_k` and a low `k` results in all results comes from the same document.  \n",
    "However, the other docs also contain information about Evergrande."
   ]
  },
  {
   "cell_type": "code",
   "execution_count": 37,
   "metadata": {},
   "outputs": [
    {
     "data": {
      "text/plain": [
       "[('../data/singapore credit outlook 2022 shell_abridged.pdf', 31),\n",
       " ('../data/singapore credit outlook 2022 shell_abridged.pdf', 29),\n",
       " ('../data/singapore credit outlook 2022 shell_abridged.pdf', 30)]"
      ]
     },
     "execution_count": 37,
     "metadata": {},
     "output_type": "execute_result"
    }
   ],
   "source": [
    "[(res.metadata[\"source\"], res.metadata[\"page\"]) for res in mmr_res[:3]]"
   ]
  },
  {
   "cell_type": "code",
   "execution_count": 38,
   "metadata": {},
   "outputs": [],
   "source": [
    "mmr_res = vectordb.max_marginal_relevance_search(docs_qn, k=10, fetch_k=200)"
   ]
  },
  {
   "cell_type": "markdown",
   "metadata": {},
   "source": [
    "Increasing `k` and `fetch_k` seems to fix this. All three documents are now being cited."
   ]
  },
  {
   "cell_type": "code",
   "execution_count": 39,
   "metadata": {},
   "outputs": [
    {
     "data": {
      "text/plain": [
       "[('../data/sg_credit_outlook_1H2023.pdf', 12),\n",
       " ('../data/sg_credit_outlook_1H2023.pdf', 54),\n",
       " ('../data/sg_credit_outlook_2H2023.pdf', 17),\n",
       " ('../data/sg_credit_outlook_2H2023.pdf', 32),\n",
       " ('../data/singapore credit outlook 2022 shell_abridged.pdf', 29),\n",
       " ('../data/singapore credit outlook 2022 shell_abridged.pdf', 30),\n",
       " ('../data/singapore credit outlook 2022 shell_abridged.pdf', 31),\n",
       " ('../data/singapore credit outlook 2022 shell_abridged.pdf', 31),\n",
       " ('../data/singapore credit outlook 2022 shell_abridged.pdf', 32),\n",
       " ('../data/singapore credit outlook 2022 shell_abridged.pdf', 80)]"
      ]
     },
     "execution_count": 39,
     "metadata": {},
     "output_type": "execute_result"
    }
   ],
   "source": [
    "sorted(\n",
    "    [(res.metadata[\"source\"], res.metadata[\"page\"]) for res in mmr_res],\n",
    "    key=lambda x: (x[0], x[1]),\n",
    ")"
   ]
  },
  {
   "cell_type": "code",
   "execution_count": 40,
   "metadata": {},
   "outputs": [
    {
     "data": {
      "text/plain": [
       "['What next for Evergrande?\\n\\nOn 3 December 2021, EVERRE announced that it may not have sufficient fund',\n",
       " 'Sector wide issue though China Evergrande is emblematic of the situation: What started at EVERRE in ',\n",
       " 'OCBC CREDIT RESEARCH \\nSGD Credit Outlook 2022 \\n \\nFriday, December 31, 2021 \\n \\nTreasury Research & St',\n",
       " 'OCBC CREDIT RESEARCH \\nSGD Credit Outlook 2022 \\n \\nFriday, December 31, 2021 \\n \\nTreasury Research & St',\n",
       " 'While certain private debt funds \\n(with their higher demands on information rights) may still be wil',\n",
       " 'Chiefly, Heungkuk Life Insurance Co, a South Korean insurer, announced to delay its early \\nrepayment',\n",
       " 'China earlier in 2021 \\nannounced that it would monitor financial risks related to climate change and',\n",
       " 'OCBC CREDIT RESEARCH \\nSGD Credit Outlook 2022 \\n \\nFriday, December 31, 2021 \\n \\nTreasury Research & St',\n",
       " 'In other words, corporations or governments that \\nissue the most debt represent the largest proporti',\n",
       " 'Most still \\nhold significant investment properties in Singapore (e.g.\\n\\nCDL, GuocoLand, Frasers Prope']"
      ]
     },
     "execution_count": 40,
     "metadata": {},
     "output_type": "execute_result"
    }
   ],
   "source": [
    "[res.page_content[:100] for res in mmr_res]"
   ]
  },
  {
   "cell_type": "markdown",
   "metadata": {},
   "source": [
    "### Contextual Compression"
   ]
  },
  {
   "cell_type": "code",
   "execution_count": 41,
   "metadata": {},
   "outputs": [],
   "source": [
    "# create compressor\n",
    "compressor = LLMChainExtractor.from_llm(llm)"
   ]
  },
  {
   "cell_type": "code",
   "execution_count": 42,
   "metadata": {},
   "outputs": [],
   "source": [
    "compression_retriever = ContextualCompressionRetriever(\n",
    "    base_compressor=compressor, base_retriever=vectordb.as_retriever()\n",
    ")"
   ]
  },
  {
   "cell_type": "code",
   "execution_count": 43,
   "metadata": {},
   "outputs": [],
   "source": [
    "# Helper function for printing docs\n",
    "def pretty_print_docs(docs):\n",
    "    print(\n",
    "        f\"\\n{'-' * 100}\\n\".join(\n",
    "            [f\"Document {i+1}:\\n\\n\" + d.page_content for i, d in enumerate(docs)]\n",
    "        )\n",
    "    )"
   ]
  },
  {
   "cell_type": "code",
   "execution_count": 44,
   "metadata": {},
   "outputs": [
    {
     "name": "stderr",
     "output_type": "stream",
     "text": [
      "c:\\Users\\Desmond\\Documents\\Python_projects\\finance_rag\\.venv\\Lib\\site-packages\\langchain\\chains\\llm.py:275: UserWarning: The predict_and_parse method is deprecated, instead pass an output parser directly to LLMChain.\n",
      "  warnings.warn(\n"
     ]
    },
    {
     "name": "stdout",
     "output_type": "stream",
     "text": [
      "Document 1:\n",
      "\n",
      "On 3 December 2021, EVERRE announced that it may not have sufficient funds to perform its financial obligations given the group’s current liquidity situation and planned to work with creditors on a restructuring plan for its offshore debt. On 6 December 2021, the company announced that it has received a demand to perform its obligations under a guarantee amounting to ~USD260mn (likely on the Jumbo bond). The company subsequently announced that it has set up a seven-person risk management committee where five members comprise of non-company representatives. These five members include a representative from China Cinda Asset Management Co, an asset manager focused on bad debts and a representative from Guangdong Holdings Limited, a provincial-level state-owned company.\n",
      "----------------------------------------------------------------------------------------------------\n",
      "Document 2:\n",
      "\n",
      "On 3 December 2021, EVERRE announced that it may not have sufficient funds to perform its financial obligations given the group’s current liquidity situation and planned to work with creditors on a restructuring plan for its offshore debt.\n",
      "\n",
      "On 6 December 2021, the company announced that it has received a demand to perform its obligations under a guarantee amounting to ~USD260mn (likely on the Jumbo bond).\n",
      "\n",
      "The company subsequently announced that it has set up a seven-person risk management committee where five members comprise of non-company representatives.\n",
      "\n",
      "These five members include a representative from China Cinda Asset Management Co, an asset manager focused on bad debts and a representative from Guangdong Holdings Limited, a provincial-level state-owned company.\n",
      "----------------------------------------------------------------------------------------------------\n",
      "Document 3:\n",
      "\n",
      "On 3 December 2021, EVERRE announced that it may not have sufficient funds to perform its financial obligations given the group’s current liquidity situation and planned to work with creditors on a restructuring plan for its offshore debt.\n",
      "\n",
      "On 6 December 2021, the company announced that it has received a demand to perform its obligations under a guarantee amounting to ~USD260mn (likely on the Jumbo bond).\n",
      "\n",
      "The company subsequently announced that it has set up a seven-person risk management committee where five members comprise of non-company representatives.\n",
      "\n",
      "These five members include a representative from China Cinda Asset Management Co, an asset manager focused on bad debts and a representative from Guangdong Holdings Limited, a provincial-level state-owned company.\n",
      "----------------------------------------------------------------------------------------------------\n",
      "Document 4:\n",
      "\n",
      "After a relatively benign 12-month period in the Asiadollar market that started from July 2020, spreads on the Asiadollar high yield market started rising on the back of news reports that two local governments had suspended sales of EVERRE’s development projects. This was followed by a gradual widening of spreads in August, accelerating since the middle of September 2021 as EVERRE announced a number of updates highlighting the liquidity challenges it was facing, including two subsidiaries that had failed to discharge guarantee obligations on wealth management products (“WMP”).\n"
     ]
    }
   ],
   "source": [
    "compressed_docs = compression_retriever.get_relevant_documents(docs_qn)\n",
    "pretty_print_docs(compressed_docs)"
   ]
  },
  {
   "cell_type": "markdown",
   "metadata": {},
   "source": [
    "`vectordb.as_retriever()` calls Class VectorStoreRetriever which, by default, uses similarity search.  \n",
    "Hence we see repeated results once more. Let's examine the results using MMR."
   ]
  },
  {
   "cell_type": "code",
   "execution_count": 45,
   "metadata": {},
   "outputs": [],
   "source": [
    "compression_retriever_mmr = ContextualCompressionRetriever(\n",
    "    base_compressor=compressor, base_retriever=vectordb.as_retriever(search_type=\"mmr\")\n",
    ")"
   ]
  },
  {
   "cell_type": "code",
   "execution_count": 46,
   "metadata": {},
   "outputs": [
    {
     "name": "stdout",
     "output_type": "stream",
     "text": [
      "Document 1:\n",
      "\n",
      "On 3 December 2021, EVERRE announced that it may not have sufficient funds to perform its financial obligations given the group’s current liquidity situation and planned to work with creditors on a restructuring plan for its offshore debt.\n",
      "\n",
      "On 6 December 2021, the company announced that it has received a demand to perform its obligations under a guarantee amounting to ~USD260mn (likely on the Jumbo bond).\n",
      "\n",
      "The company subsequently announced that it has set up a seven-person risk management committee where five members comprise of non-company representatives.\n",
      "\n",
      "These five members include a representative from China Cinda Asset Management Co, an asset manager focused on bad debts and a representative from Guangdong Holdings Limited, a provincial-level state-owned company.\n",
      "----------------------------------------------------------------------------------------------------\n",
      "Document 2:\n",
      "\n",
      "Sector wide issue though China Evergrande is emblematic of the situation: What started at EVERRE in terms of liquidity \n",
      "stress has snowballed to the rest of the market. In part, the industry challenges afflicting EVERRE are also the same ones \n",
      "that are affecting other property market issuers, namely a slowing property market and tighter financing. China started \n",
      "stepping up property market cooling measures since 2016 and the message that houses are for living in, not for speculation, \n",
      "has been consistent for the past five years. In August 2020, media reports of a deleveraging campaign named “Three Red Lines” \n",
      "emerged as a way to contain the financial risk of the property sector. However, in the short term, some developers would have had \n",
      "little ability to meet liquidity needs if they were unable to borrow more. Property market started slowing: Compounding the restriction in policy, the pace of house price increase slowed during \n",
      "the pandemic and in 2021 was exacerbated by reports of price discounts offered by developers to homebuyers and rising \n",
      "concerns over the credit health of property developers. Bloomberg reported that contracted sales (takes into \n",
      "account both house prices and area sold) by China’s top 100 developers fell 38% y/y in November 2021, wider than the \n",
      "32% y/y drop in October 2021 per preliminary data compiled by China Real Estate Information Corporation, a research firm \n",
      "focusing on the Chinese property market.\n",
      "----------------------------------------------------------------------------------------------------\n",
      "Document 3:\n",
      "\n",
      "As at 30 June 2021, EVERRE’s contract liabilities which would be where such obligations are likely to sit was reported at RMB215.8bn (11% of total liabilities). When minority interest may be “debt-like”: Company assets can be funded in many ways and in the case of Evergrande, minority interest amounted to RMB220bn as at 30 June 2021. Selling stakes in subsidiaries and welcoming new minority investors is a common business practice and often this is a smart way to mitigate business risk which may be fraught in a property development project. However, it is worth noting that minority interest makes up 54% of Evergrande’s already thin total book value of equity, begging the question of why a company as prominent as Evergrande needed so much money from business partners and what is the specific nature of such minority interest. While we do not have the full answers, minority investors in Hengda had terms which were “debt-like” as these investors had rights to redeem their stake in Hengda (or obtain more shares in Hengda for no consideration). These were subsequently waived, averting potential liquidity stress in January 2021, though it is yet unknown what the company offered in lieu of the waiver.\n",
      "----------------------------------------------------------------------------------------------------\n",
      "Document 4:\n",
      "\n",
      "EVERRE has not paid USD82.5mn of coupons on two bonds issued by Scenery Journey Ltd that came due in early November. There was a 30-day grace period on the payments which has since ended on 7th December 2021. EVERRE has also reportedly failed to pay USD255.2mn in coupons due 28th December 2021 on EVERRE 8.75% ‘25s and EVERRE 7.5% ‘23s. There is also a 30-day grace period on the payments. We expect that a managed debt restructuring process would be carried out as next course of action. As of writing, no formal debt restructuring process has actually started although the company has appointed legal and financial advisers since September 2021. The relative inertia amongst investors and EVERRE from delayed acceleration and formal debt restructuring could be due to hopes for a last-minute government reprieve. However, at a recent event in HKSAR in early December, the governor of the People’s Bank of China commented in a pre-recorded message that the rights and interests of creditors and shareholders will be fully respected in accordance with their legal seniority and EVERRE will be dealt with in a market-oriented way. Given the size of the problem, it looks increasingly like there needs to be a concerted effort including from the government to limit systemic risk.\n"
     ]
    }
   ],
   "source": [
    "compressed_docs = compression_retriever_mmr.get_relevant_documents(docs_qn)\n",
    "pretty_print_docs(compressed_docs)"
   ]
  },
  {
   "cell_type": "markdown",
   "metadata": {},
   "source": [
    "As we saw earlier, MMR gives better results compared to similarity search."
   ]
  },
  {
   "cell_type": "markdown",
   "metadata": {},
   "source": [
    "### Retrieval without vectorstores"
   ]
  },
  {
   "cell_type": "code",
   "execution_count": 47,
   "metadata": {},
   "outputs": [],
   "source": [
    "from langchain.retrievers import SVMRetriever"
   ]
  },
  {
   "cell_type": "code",
   "execution_count": 48,
   "metadata": {},
   "outputs": [],
   "source": [
    "all_docs_text = [d.page_content for d in docs]\n",
    "joined_docs_text = \" \".join(all_docs_text)"
   ]
  },
  {
   "cell_type": "code",
   "execution_count": 49,
   "metadata": {},
   "outputs": [
    {
     "name": "stderr",
     "output_type": "stream",
     "text": [
      "Created a chunk of size 1106, which is longer than the specified 1000\n",
      "Created a chunk of size 2035, which is longer than the specified 1000\n",
      "Created a chunk of size 1511, which is longer than the specified 1000\n",
      "Created a chunk of size 1355, which is longer than the specified 1000\n",
      "Created a chunk of size 5089, which is longer than the specified 1000\n",
      "Created a chunk of size 1173, which is longer than the specified 1000\n",
      "Created a chunk of size 2671, which is longer than the specified 1000\n",
      "Created a chunk of size 1954, which is longer than the specified 1000\n",
      "Created a chunk of size 2116, which is longer than the specified 1000\n",
      "Created a chunk of size 1163, which is longer than the specified 1000\n",
      "Created a chunk of size 2524, which is longer than the specified 1000\n",
      "Created a chunk of size 1109, which is longer than the specified 1000\n",
      "Created a chunk of size 1067, which is longer than the specified 1000\n",
      "Created a chunk of size 1489, which is longer than the specified 1000\n",
      "Created a chunk of size 1532, which is longer than the specified 1000\n",
      "Created a chunk of size 5058, which is longer than the specified 1000\n",
      "Created a chunk of size 1167, which is longer than the specified 1000\n",
      "Created a chunk of size 2184, which is longer than the specified 1000\n",
      "Created a chunk of size 1185, which is longer than the specified 1000\n",
      "Created a chunk of size 2049, which is longer than the specified 1000\n",
      "Created a chunk of size 1649, which is longer than the specified 1000\n",
      "Created a chunk of size 2283, which is longer than the specified 1000\n",
      "Created a chunk of size 1332, which is longer than the specified 1000\n",
      "Created a chunk of size 1365, which is longer than the specified 1000\n",
      "Created a chunk of size 3935, which is longer than the specified 1000\n",
      "Created a chunk of size 1550, which is longer than the specified 1000\n",
      "Created a chunk of size 1748, which is longer than the specified 1000\n",
      "Created a chunk of size 2051, which is longer than the specified 1000\n",
      "Created a chunk of size 1645, which is longer than the specified 1000\n",
      "Created a chunk of size 1055, which is longer than the specified 1000\n",
      "Created a chunk of size 1005, which is longer than the specified 1000\n",
      "Created a chunk of size 1832, which is longer than the specified 1000\n",
      "Created a chunk of size 1330, which is longer than the specified 1000\n",
      "Created a chunk of size 2392, which is longer than the specified 1000\n",
      "Created a chunk of size 1085, which is longer than the specified 1000\n",
      "Created a chunk of size 2612, which is longer than the specified 1000\n",
      "Created a chunk of size 2313, which is longer than the specified 1000\n",
      "Created a chunk of size 1373, which is longer than the specified 1000\n",
      "Created a chunk of size 2788, which is longer than the specified 1000\n",
      "Created a chunk of size 1909, which is longer than the specified 1000\n",
      "Created a chunk of size 1092, which is longer than the specified 1000\n",
      "Created a chunk of size 1081, which is longer than the specified 1000\n",
      "Created a chunk of size 1098, which is longer than the specified 1000\n",
      "Created a chunk of size 1077, which is longer than the specified 1000\n",
      "Created a chunk of size 2157, which is longer than the specified 1000\n"
     ]
    }
   ],
   "source": [
    "nltk_splitter = NLTKTextSplitter(chunk_size=1000, chunk_overlap=100)\n",
    "\n",
    "docs_splits = nltk_splitter.split_text(joined_docs_text)"
   ]
  },
  {
   "cell_type": "code",
   "execution_count": 50,
   "metadata": {},
   "outputs": [],
   "source": [
    "svm_retriever = SVMRetriever.from_texts(docs_splits, embedding)"
   ]
  },
  {
   "cell_type": "code",
   "execution_count": 51,
   "metadata": {},
   "outputs": [
    {
     "name": "stderr",
     "output_type": "stream",
     "text": [
      "c:\\Users\\Desmond\\Documents\\Python_projects\\finance_rag\\.venv\\Lib\\site-packages\\sklearn\\svm\\_classes.py:32: FutureWarning: The default value of `dual` will change from `True` to `'auto'` in 1.5. Set the value of `dual` explicitly to suppress the warning.\n",
      "  warnings.warn(\n"
     ]
    },
    {
     "data": {
      "text/plain": [
       "Document(page_content='This points towards further defaults for the sector.\\n\\nAmong the limited number of \\nhigh grade and “crossover” Chinese property developers, refinancing costs have increased even if access is still available.\\n\\nWhat next for Evergrande?\\n\\nOn 3 December 2021, EVERRE announced that it may not have sufficient funds to perform its \\nfinancial obligations given the group’s current liquidity situation and planned to work with creditors on a restructuring plan \\nfor its offshore debt.\\n\\nOn 6 December 2021, the company announced that it has received a demand to perform its obligations \\nunder a guarantee amounting to ~USD260mn (likely on the Jumbo bond).\\n\\nThe company subsequently announced that it \\nhas set up a seven-person risk management committee where five members comprise of non-company representatives.', metadata={})"
      ]
     },
     "execution_count": 51,
     "metadata": {},
     "output_type": "execute_result"
    }
   ],
   "source": [
    "docs_qn = \"What is the latest update for China Evergrande?\"\n",
    "docs_svm = svm_retriever.get_relevant_documents(docs_qn)\n",
    "docs_svm[0]"
   ]
  },
  {
   "cell_type": "markdown",
   "metadata": {},
   "source": [
    "It works well but metadata is missing. There's probably is a way to include metadata, but that's out of the scope for this project."
   ]
  },
  {
   "cell_type": "code",
   "execution_count": 52,
   "metadata": {},
   "outputs": [
    {
     "data": {
      "text/plain": [
       "[Document(page_content='This points towards further defaults for the sector.\\n\\nAmong the limited number of \\nhigh grade and “crossover” Chinese property developers, refinancing costs have increased even if access is still available.\\n\\nWhat next for Evergrande?\\n\\nOn 3 December 2021, EVERRE announced that it may not have sufficient funds to perform its \\nfinancial obligations given the group’s current liquidity situation and planned to work with creditors on a restructuring plan \\nfor its offshore debt.\\n\\nOn 6 December 2021, the company announced that it has received a demand to perform its obligations \\nunder a guarantee amounting to ~USD260mn (likely on the Jumbo bond).\\n\\nThe company subsequently announced that it \\nhas set up a seven-person risk management committee where five members comprise of non-company representatives.', metadata={}),\n",
       " Document(page_content='As at 30 June 2021, EVERRE’s contract liabilities which would be where such \\nobligations are likely to sit was reported at RMB215.8bn (11% of total liabilities).\\n\\nWhen minority interest may be “debt-like”: Company assets can be funded in many ways and in the case of Evergrande, \\nminority interest amounted to RMB220bn as at 30 June 2021.\\n\\nSelling stakes in subsidiaries and welcoming new minority \\ninvestors is a common business practice and often this is a smart way to mitigate business risk which may be fraught in a \\nproperty development project.\\n\\nHowever, it is worth noting that minority interest makes up 54% of Evergrande’s already \\nthin total book value of equity, begging the question of why a company as prominent as Evergrande needed so much money \\nfrom business partners and what is the specific nature of such minority interest.', metadata={}),\n",
       " Document(page_content='While we do not have the full answers, \\nminority investors in Hengda had terms which were “debt-like” as these investors had rights to redeem their stake in \\nHengda (or obtain more shares in Hengda for no consideration).\\n\\nThese were subsequently waived, averting potential \\nliquidity stress in January 2021, though it is yet unknown what the company offered in lieu of the waiver.\\n\\nStructural subordination comes into the fray: All lenders are not necessarily equal and how much each group of lenders \\ncan get back in a negotiated debt restructuring significantly depends on their bargaining power.\\n\\nSuch bargaining power is \\nin part dependent on the specific entity that lenders have lent their money to and the corporate structure of the whole \\ngroup.\\n\\nEvergrande’s USD bonds are issued out of offshore entities (of which, USD14 billion is issued out of the Cayman \\nIsland incorporated listed entity).\\n\\nSimilar to other Asiadollar bond issuers, EVERRE’s main assets are located in China.', metadata={}),\n",
       " Document(page_content='What you see may not be what it is: EVERRE’s latest available unaudited consolidated balance sheet as at 30 June 2021 \\nshowed total liabilities of RMB2.0 trillion.\\n\\nHowever, various media reports have surfaced that EVERRE had financed certain \\nparts of its business through wealth management products (“WMP”) mainly sold to retail investors including employees.\\n\\nIt \\nis still unclear to us what are the exact terms of such WMP and whether these are outright guaranteed by subsidiaries.\\n\\nWe \\ndo know however that we were unable to find much disclosure on the WMP in the company’s consolidated financials even \\nif these financials were audited by well-known auditors.\\n\\nIn early-September 2021, we opined in our Special Interest \\nCommentary piece that the company also has various other obligations that may still materialise if certain conditions are \\nunfulfilled.', metadata={})]"
      ]
     },
     "execution_count": 52,
     "metadata": {},
     "output_type": "execute_result"
    }
   ],
   "source": [
    "docs_svm"
   ]
  },
  {
   "cell_type": "markdown",
   "metadata": {},
   "source": [
    "## Question Answering"
   ]
  },
  {
   "cell_type": "code",
   "execution_count": 53,
   "metadata": {},
   "outputs": [],
   "source": [
    "qa_chain = RetrievalQA.from_chain_type(llm, retriever=vectordb.as_retriever())"
   ]
  },
  {
   "cell_type": "code",
   "execution_count": 54,
   "metadata": {},
   "outputs": [
    {
     "data": {
      "text/plain": [
       "'What is the latest update for China Evergrande?'"
      ]
     },
     "execution_count": 54,
     "metadata": {},
     "output_type": "execute_result"
    }
   ],
   "source": [
    "docs_qn"
   ]
  },
  {
   "cell_type": "code",
   "execution_count": 55,
   "metadata": {},
   "outputs": [],
   "source": [
    "result = qa_chain({\"query\": docs_qn})"
   ]
  },
  {
   "cell_type": "code",
   "execution_count": 56,
   "metadata": {},
   "outputs": [
    {
     "data": {
      "text/plain": [
       "'The latest update for China Evergrande, as of the information provided, is that the company is facing significant liquidity challenges and may not have sufficient funds to perform its financial obligations. It has received a demand to perform its obligations under a guarantee amounting to approximately USD260 million. In response to these challenges, Evergrande has set up a seven-person risk management committee, five of whom are non-company representatives. These representatives include individuals from China Cinda Asset Management Co and Guangdong Holdings Limited. The company is also planning to work with creditors on a restructuring plan for its offshore debt.'"
      ]
     },
     "execution_count": 56,
     "metadata": {},
     "output_type": "execute_result"
    }
   ],
   "source": [
    "result[\"result\"]"
   ]
  },
  {
   "cell_type": "code",
   "execution_count": 57,
   "metadata": {},
   "outputs": [],
   "source": [
    "# Build prompt\n",
    "template = \"\"\"Use the following pieces of context to answer the question at the end. If you don't know the answer, \n",
    "just say that you don't know, don't try to make up an answer.\n",
    "Keep the answer as concise as possible. The tone should be informative. Use bullet points.\n",
    "For each answer, indicate the year that that answer is applicable to.\n",
    "{context}\n",
    "Question: {question}\n",
    "Helpful Answer:\"\"\"\n",
    "QA_CHAIN_PROMPT = PromptTemplate.from_template(template)"
   ]
  },
  {
   "cell_type": "code",
   "execution_count": 58,
   "metadata": {},
   "outputs": [],
   "source": [
    "# Run chain\n",
    "qa_chain = RetrievalQA.from_chain_type(\n",
    "    llm,\n",
    "    retriever=vectordb.as_retriever(),\n",
    "    return_source_documents=True,\n",
    "    chain_type_kwargs={\"prompt\": QA_CHAIN_PROMPT},\n",
    ")"
   ]
  },
  {
   "cell_type": "code",
   "execution_count": 59,
   "metadata": {},
   "outputs": [],
   "source": [
    "qa_res = qa_chain(\n",
    "    {\"query\": \"What are some key developments in the high yield bond market?\"}\n",
    ")"
   ]
  },
  {
   "cell_type": "code",
   "execution_count": 60,
   "metadata": {},
   "outputs": [
    {
     "name": "stdout",
     "output_type": "stream",
     "text": [
      "- High yield bonds, also known as junk bonds, were initially issued by former investment grade issuers who lost their investment grade status, known as \"fallen angels\" (No specific year mentioned).\n",
      "- From the 1980s, high yield bonds were issued from the outset and heavily marketed by US investment banks, becoming a fast-growing segment of the bond market (1980s).\n",
      "- The Asiadollar high yield bond market, excluding Japan, is a large and liquid market with a significant institutional investor following (No specific year mentioned).\n",
      "- As of 14 December 2021, the amount of high yield bonds outstanding in the market was USD286.6bn (~SGD391.6bn), with 44% of these bonds issued by property developers in China and another 19% by issuers from India and Indonesia (2021).\n",
      "- The SGD corporate credit market is mainly an unrated market, leading to variations in yields and secondary market liquidity due to differing perceptions of credit risk among market participants (2021).\n",
      "- OCBC Credit Research maintains a framework for assessing fundamental credit profiles on issuers, assigning them a 1-7 issuer profile score (IPS), with one being the strongest and seven the weakest (2021).\n",
      "- In a rising interest rate environment, true high yield bonds would be an ideal segment to invest in versus very high-grade bonds which would be affected by price falls (No specific year mentioned).\n"
     ]
    }
   ],
   "source": [
    "print(qa_res[\"result\"])"
   ]
  },
  {
   "cell_type": "code",
   "execution_count": 61,
   "metadata": {},
   "outputs": [],
   "source": [
    "qa_chain_refine = RetrievalQA.from_chain_type(\n",
    "    llm,\n",
    "    retriever=vectordb.as_retriever(),\n",
    "    chain_type=\"refine\",\n",
    ")"
   ]
  },
  {
   "cell_type": "markdown",
   "metadata": {},
   "source": [
    "The output from `chain_type=\"refine\"` is a lot more structured. "
   ]
  },
  {
   "cell_type": "code",
   "execution_count": 62,
   "metadata": {},
   "outputs": [
    {
     "name": "stdout",
     "output_type": "stream",
     "text": [
      "The high yield bond market, also known as junk bonds or speculative grade bonds, has seen several key developments. Initially, these bonds were mainly issued by former investment grade issuers who lost their investment grade status, known as \"fallen angels\". However, starting from the 1980s, bonds issued as high yield from the outset were launched and heavily marketed by US investment banks, becoming a fast-growing segment of the bond market.\n",
      "\n",
      "The Asiadollar (excluding Japan) high yield bond market has grown into a large and liquid market with a significant institutional investor following. As of 14 December 2021, the amount of high yield bonds outstanding in the market was calculated at USD286.6bn (~SGD391.6bn). The market is highly concentrated with 44% of these bonds issued by property developers with their main operations in China, and another 19% are issuers from India and Indonesia.\n",
      "\n",
      "The SGD high yield market is mainly an unrated market, meaning a lack of explicitly available credit ratings to guide the market on what should be considered high yield versus those that are higher grade. This leads to variations in yields and secondary market liquidity, reflecting the difference in perceptions of credit risk among market participants. \n",
      "\n",
      "In a highly stressed liquidity scenario, investors are better able to sell their most liquid holdings (typically high-grade bonds) rather than high yield bonds. This illiquidity means that high yield bonds are more suited for investors with higher holding power. \n",
      "\n",
      "In the riskier parts of the high yield space, sizeable capital gains may exist, bringing total returns closer to required returns more commonly seen in equity. However, high yield bonds that are trading below par do not immediately translate to a good deal as there could be credit fundamental reasons why that is the case. \n",
      "\n",
      "In a rising interest rate environment with the economy emerging on a stronger footing out of the pandemic, high yield bonds would be an ideal segment to put money to work versus very high-grade bonds which would be plagued by price falls. However, the SGD market is not deep and liquid enough for such a portfolio. \n",
      "\n",
      "Furthermore, unlike the more mature US high yield market, there are no reliable default rate indicators in the SGD space with defaults since 2015 highly concentrated. That said, the opportunity set significantly expands when we add “crossover” bullets and perpetuals into the mix. In our view, sufficient investment targets exist to own a portfolio that is less tilted to high grade in this environment.\n"
     ]
    }
   ],
   "source": [
    "refine_result = qa_chain_refine(\n",
    "    {\"query\": \"What are some key developments in the high yield bond market?\"}\n",
    ")\n",
    "print(refine_result[\"result\"])"
   ]
  },
  {
   "cell_type": "markdown",
   "metadata": {},
   "source": [
    "I did some checks and found that most of the results were coming from only one PDF (singapore credit outlook 2022 shell_abridged.pdf).  \n",
    "I reckon it's because this PDF talks about HY relatively more than the other two.  \n",
    "\n",
    "I asked about a topic (Bond Indices) only found in sg_credit_outlook_2H2023.pdf; and it did return relevant output from this PDF - assuaging my concerns that only splits from one document were being sent to the LLM."
   ]
  },
  {
   "cell_type": "code",
   "execution_count": 65,
   "metadata": {},
   "outputs": [
    {
     "name": "stdout",
     "output_type": "stream",
     "text": [
      "Bond indices are crucial tools for tracking the performance of specific segments of the bond market and are often used as benchmarks for bond index funds (BIFs). These funds are diversified portfolios of bonds that align with the performance of a specific bond index and can come in various forms, including bond mutual funds and exchange-traded funds (ETFs) that invest in bonds.\n",
      "\n",
      "However, while bond indices offer benefits such as diversification and low-cost investments, they also present certain challenges. For instance, bond indices are typically weighted by the amount of debt outstanding by the issuers, meaning corporations or governments that issue the most debt represent the largest proportion of the index. This can lead to a situation where the index is heavily weighted towards the most indebted issuers.\n",
      "\n",
      "Moreover, replicating a bond index can be difficult due to the high number of constituents and the relatively illiquid nature of bonds. The high trading cost of bonds can also pose a challenge. \n",
      "\n",
      "Despite these challenges, bond ETFs have seen significant growth since their inception in 2002, with assets under management (AUM) reaching USD1.88tn and more than 1,780 ETF products available globally as of June 2023. \n",
      "\n",
      "In conclusion, while BIFs can be a useful investment option for investors seeking exposure to diversification and lower fees, they also come with risks and limitations. Therefore, active investing may be more suitable for bonds. As with all investment options, investors should carefully consider these factors before investing.\n"
     ]
    }
   ],
   "source": [
    "refine_result = qa_chain_refine(\n",
    "    {\"query\": \"Tell me about key characteristics of bond indices.\"}\n",
    ")\n",
    "print(refine_result[\"result\"])"
   ]
  }
 ],
 "metadata": {
  "kernelspec": {
   "display_name": ".venv",
   "language": "python",
   "name": "python3"
  },
  "language_info": {
   "codemirror_mode": {
    "name": "ipython",
    "version": 3
   },
   "file_extension": ".py",
   "mimetype": "text/x-python",
   "name": "python",
   "nbconvert_exporter": "python",
   "pygments_lexer": "ipython3",
   "version": "3.11.0"
  },
  "orig_nbformat": 4
 },
 "nbformat": 4,
 "nbformat_minor": 2
}
