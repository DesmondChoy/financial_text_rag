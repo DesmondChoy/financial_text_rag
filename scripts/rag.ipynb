{
 "cells": [
  {
   "cell_type": "markdown",
   "metadata": {},
   "source": [
    "## Objective\n",
    "\n",
    "To facilitate accurate Q&A with financial documents (OCBC credit reports), we can leverage Retrieval-Augmented Generation (RAG) together with a LLM.   \n",
    "This is the basic workflow: Financial text -> Split into chunks + OpenAI embeddings -> Load Vectorstore  \n",
    "Ask questions -> Look up Vectorstore -> Get most relevant embeddings -> Expose to LLM -> Get relevant answer\n",
    "\n",
    "Inspired by: https://learn.deeplearning.ai/langchain-chat-with-your-data/"
   ]
  },
  {
   "cell_type": "markdown",
   "metadata": {},
   "source": [
    "## Load libraries"
   ]
  },
  {
   "cell_type": "code",
   "execution_count": 185,
   "metadata": {},
   "outputs": [],
   "source": [
    "import os\n",
    "import numpy as np\n",
    "from dotenv import load_dotenv, find_dotenv\n",
    "from langchain.document_loaders import PyMuPDFLoader\n",
    "from langchain.text_splitter import RecursiveCharacterTextSplitter, NLTKTextSplitter\n",
    "from langchain.embeddings.openai import OpenAIEmbeddings\n",
    "from langchain.vectorstores import Chroma\n",
    "from langchain.chat_models import ChatOpenAI\n",
    "from langchain.retrievers import ContextualCompressionRetriever\n",
    "from langchain.retrievers.document_compressors import LLMChainExtractor\n",
    "from langchain.chains import RetrievalQA\n",
    "from langchain.prompts import PromptTemplate\n",
    "\n",
    "\n",
    "load_dotenv(find_dotenv())\n",
    "OPENAI_API_KEY = os.environ[\"OPENAI_API_KEY\"]\n",
    "# os.environ[\"OPENAI_API_KEY\"] = your_key_here"
   ]
  },
  {
   "cell_type": "markdown",
   "metadata": {},
   "source": [
    "## Initialize LLM"
   ]
  },
  {
   "cell_type": "code",
   "execution_count": 36,
   "metadata": {},
   "outputs": [],
   "source": [
    "# initialize LLM\n",
    "llm = ChatOpenAI(\n",
    "    temperature=0,\n",
    "    openai_api_key=OPENAI_API_KEY,\n",
    "    model_name=\"gpt-4\",\n",
    "    request_timeout=600,\n",
    ")"
   ]
  },
  {
   "cell_type": "markdown",
   "metadata": {},
   "source": [
    "## Select an appropriate text splitter"
   ]
  },
  {
   "attachments": {},
   "cell_type": "markdown",
   "metadata": {},
   "source": [
    "### Load a single PDF"
   ]
  },
  {
   "cell_type": "code",
   "execution_count": 2,
   "metadata": {},
   "outputs": [],
   "source": [
    "loader = PyMuPDFLoader(\"../data/sg_credit_outlook_1H2023.pdf\")\n",
    "pages = loader.load_and_split()"
   ]
  },
  {
   "cell_type": "code",
   "execution_count": 3,
   "metadata": {},
   "outputs": [
    {
     "data": {
      "text/plain": [
       "122"
      ]
     },
     "execution_count": 3,
     "metadata": {},
     "output_type": "execute_result"
    }
   ],
   "source": [
    "len(pages)"
   ]
  },
  {
   "cell_type": "code",
   "execution_count": 4,
   "metadata": {},
   "outputs": [
    {
     "data": {
      "text/plain": [
       "'OCBC CREDIT RESEARCH \\nSGD Credit Outlook 2023 \\n \\n Wednesday, January 04, 2023 \\n \\nTreasury Research & Strategy                                                                                                                                    i \\n \\n \\n \\nTreasury Advisory \\nCorporate FX & Structured \\nProducts  \\nTel: 6349-1888 / 1881 \\n \\nFixed Income & Structured \\nProducts \\nTel: 6349-1810 \\n \\nInterest Rate Derivatives \\nTel: 6349-1899 \\n \\nInvestments & Structured \\nProducts \\nTel: 6349-1886 \\n \\n \\n \\n \\nOCBC Cre'"
      ]
     },
     "execution_count": 4,
     "metadata": {},
     "output_type": "execute_result"
    }
   ],
   "source": [
    "pages[0].page_content[0:500]"
   ]
  },
  {
   "cell_type": "code",
   "execution_count": 5,
   "metadata": {},
   "outputs": [
    {
     "data": {
      "text/plain": [
       "{'source': '../data/sg_credit_outlook_1H2023.pdf',\n",
       " 'file_path': '../data/sg_credit_outlook_1H2023.pdf',\n",
       " 'page': 80,\n",
       " 'total_pages': 81,\n",
       " 'format': 'PDF 1.7',\n",
       " 'title': 'Credit Outlook –',\n",
       " 'author': 'trt2',\n",
       " 'subject': '',\n",
       " 'keywords': '',\n",
       " 'creator': 'Microsoft® Word for Microsoft 365',\n",
       " 'producer': 'Microsoft® Word for Microsoft 365',\n",
       " 'creationDate': \"D:20230104164538+08'00'\",\n",
       " 'modDate': \"D:20230105095819+08'00'\",\n",
       " 'trapped': ''}"
      ]
     },
     "execution_count": 5,
     "metadata": {},
     "output_type": "execute_result"
    }
   ],
   "source": [
    "pages[0].metadata\n",
    "pages[120].metadata"
   ]
  },
  {
   "attachments": {},
   "cell_type": "markdown",
   "metadata": {},
   "source": [
    "### Compare between text splitters\n",
    "\n",
    "Let's choose which TextSplitter to use. Here I'll compare results between `RecursiveCharacterTextSplitter` and `NLTKTextSplitter`."
   ]
  },
  {
   "cell_type": "code",
   "execution_count": 6,
   "metadata": {},
   "outputs": [],
   "source": [
    "# small paramaters for now to conveniently assess results\n",
    "chunk_size = 1000\n",
    "chunk_overlap = 200\n",
    "\n",
    "r_splitter = RecursiveCharacterTextSplitter(\n",
    "    chunk_size=chunk_size,\n",
    "    chunk_overlap=chunk_overlap,\n",
    "    separators=[\"\\n\\n\", \"\\n\", \" \", \"\"],  # default values\n",
    ")\n",
    "\n",
    "nltk_splitter = NLTKTextSplitter(chunk_size=chunk_size, chunk_overlap=chunk_overlap)"
   ]
  },
  {
   "cell_type": "code",
   "execution_count": 7,
   "metadata": {},
   "outputs": [
    {
     "data": {
      "text/plain": [
       "'OCBC CREDIT RESEARCH \\nSGD Credit Outlook 2023 \\n \\n Wednesday, January 04, 2023 \\n \\nTreasury Research & Strategy                                                                                                                                    18 \\n• Assuming new debt for the purpose of the redemption of the perpetuals will increase LMRT leverage and reduce the debt \\nheadroom available for the development of LMRT’s existing assets during the uncertain macroeconomic outlook. \\n• Current market conditions are not favourable for LMIR Trust for the issuance of perpetual securities at a lower yield than the \\nreset distribution rate. \\n \\nOCBC Credit Research commentary: \\n• Perpetual reset date coincided with call date, distribution rate stepped up to 8.096% from only 6.6%. \\n• In our view LMRT would have found it difficult to assess primary markets without external guarantees, given the protracted \\nrecovery at LMRT’s underlying properties. LMRT is facing a tight adjusted interest coverage ratio, which suggest an elevated \\nrisk of non-payment of perpetual distribution over a 12-month outlook. The issuer’s USD bonds are also trading at stressed \\nlevels.  \\nFrasers Property Ltd (“FPL”) \\nFPLSP 4.38%-PERP \\n17-Jan-2023 \\nHave announced will not \\ncall on first call date \\nStated reasons for non-call:  \\n• In arriving at the decision not to redeem the perpetual securities on the first call date, the longer-term interests of the issuer and \\nthe current macroeconomic and interest rate environments were taken into consideration, including: \\n• Diversification of sources of funding. \\n• Current market conditions for the issuance of similar yielding perpetual securities. \\n \\nOCBC Credit Research commentary: \\n• Perpetual distribution rate reset date does not coincide with call date, distribution rate would remain at 4.38%. The first reset \\ndate only falls on January 2028. FPL enjoys cost savings by not replacing the perpetual.  \\n• Redeemed its FPLSP 3.95%-PERP in October 2022 which was structured with reset. \\nGuocoLand Ltd (“GUOL”) \\nGUOLSP 4.6%-PERP \\n23-Jan-2023 \\nHave announced will not \\ncall on first call date \\nStated reasons for non-call:  \\n• General statement that the non-call was in view of the current interest rate environment. \\n• Maintains flexibility to exercise the call on any distribution payment date. \\n \\nOCBC Credit Research commentary: \\n• Perpetual distribution rate reset date does not coincide with call date, distribution rate would remain at 4.6%. The first reset date \\nonly falls in January 2025. GUOL enjoys cost savings by not replacing the perpetual. \\nSource: Company, Bloomberg, OCBC Credit Research \\n \\nIssuers who had opted not to call their perpetuals would likely find difficulty in raising a new perpetual, until the \\nexisting perpetuals are redeemed, in our view. A non-call effectively tilts the perpetual into an “equity-like” instrument \\nwith no maturity, albeit without equity upside that comes with business growth. This is comparable to preferred stock, \\nin our'"
      ]
     },
     "execution_count": 7,
     "metadata": {},
     "output_type": "execute_result"
    }
   ],
   "source": [
    "# random page\n",
    "snippet = pages[25].page_content[0:3000]\n",
    "snippet"
   ]
  },
  {
   "cell_type": "code",
   "execution_count": 8,
   "metadata": {},
   "outputs": [
    {
     "data": {
      "text/plain": [
       "4"
      ]
     },
     "execution_count": 8,
     "metadata": {},
     "output_type": "execute_result"
    }
   ],
   "source": [
    "r_res = r_splitter.split_text(snippet)\n",
    "len(r_res)"
   ]
  },
  {
   "cell_type": "code",
   "execution_count": 9,
   "metadata": {},
   "outputs": [
    {
     "data": {
      "text/plain": [
       "['OCBC CREDIT RESEARCH \\nSGD Credit Outlook 2023 \\n \\n Wednesday, January 04, 2023 \\n \\nTreasury Research & Strategy                                                                                                                                    18 \\n• Assuming new debt for the purpose of the redemption of the perpetuals will increase LMRT leverage and reduce the debt \\nheadroom available for the development of LMRT’s existing assets during the uncertain macroeconomic outlook. \\n• Current market conditions are not favourable for LMIR Trust for the issuance of perpetual securities at a lower yield than the \\nreset distribution rate. \\n \\nOCBC Credit Research commentary: \\n• Perpetual reset date coincided with call date, distribution rate stepped up to 8.096% from only 6.6%. \\n• In our view LMRT would have found it difficult to assess primary markets without external guarantees, given the protracted',\n",
       " '• In our view LMRT would have found it difficult to assess primary markets without external guarantees, given the protracted \\nrecovery at LMRT’s underlying properties. LMRT is facing a tight adjusted interest coverage ratio, which suggest an elevated \\nrisk of non-payment of perpetual distribution over a 12-month outlook. The issuer’s USD bonds are also trading at stressed \\nlevels.  \\nFrasers Property Ltd (“FPL”) \\nFPLSP 4.38%-PERP \\n17-Jan-2023 \\nHave announced will not \\ncall on first call date \\nStated reasons for non-call:  \\n• In arriving at the decision not to redeem the perpetual securities on the first call date, the longer-term interests of the issuer and \\nthe current macroeconomic and interest rate environments were taken into consideration, including: \\n• Diversification of sources of funding. \\n• Current market conditions for the issuance of similar yielding perpetual securities. \\n \\nOCBC Credit Research commentary:',\n",
       " '• Diversification of sources of funding. \\n• Current market conditions for the issuance of similar yielding perpetual securities. \\n \\nOCBC Credit Research commentary: \\n• Perpetual distribution rate reset date does not coincide with call date, distribution rate would remain at 4.38%. The first reset \\ndate only falls on January 2028. FPL enjoys cost savings by not replacing the perpetual.  \\n• Redeemed its FPLSP 3.95%-PERP in October 2022 which was structured with reset. \\nGuocoLand Ltd (“GUOL”) \\nGUOLSP 4.6%-PERP \\n23-Jan-2023 \\nHave announced will not \\ncall on first call date \\nStated reasons for non-call:  \\n• General statement that the non-call was in view of the current interest rate environment. \\n• Maintains flexibility to exercise the call on any distribution payment date. \\n \\nOCBC Credit Research commentary: \\n• Perpetual distribution rate reset date does not coincide with call date, distribution rate would remain at 4.6%. The first reset date',\n",
       " 'OCBC Credit Research commentary: \\n• Perpetual distribution rate reset date does not coincide with call date, distribution rate would remain at 4.6%. The first reset date \\nonly falls in January 2025. GUOL enjoys cost savings by not replacing the perpetual. \\nSource: Company, Bloomberg, OCBC Credit Research \\n \\nIssuers who had opted not to call their perpetuals would likely find difficulty in raising a new perpetual, until the \\nexisting perpetuals are redeemed, in our view. A non-call effectively tilts the perpetual into an “equity-like” instrument \\nwith no maturity, albeit without equity upside that comes with business growth. This is comparable to preferred stock, \\nin our']"
      ]
     },
     "execution_count": 9,
     "metadata": {},
     "output_type": "execute_result"
    }
   ],
   "source": [
    "r_res"
   ]
  },
  {
   "cell_type": "code",
   "execution_count": 10,
   "metadata": {},
   "outputs": [
    {
     "data": {
      "text/plain": [
       "4"
      ]
     },
     "execution_count": 10,
     "metadata": {},
     "output_type": "execute_result"
    }
   ],
   "source": [
    "nltk_res = nltk_splitter.split_text(snippet)\n",
    "len(nltk_res)"
   ]
  },
  {
   "cell_type": "code",
   "execution_count": 11,
   "metadata": {},
   "outputs": [
    {
     "data": {
      "text/plain": [
       "['OCBC CREDIT RESEARCH \\nSGD Credit Outlook 2023 \\n \\n Wednesday, January 04, 2023 \\n \\nTreasury Research & Strategy                                                                                                                                    18 \\n• Assuming new debt for the purpose of the redemption of the perpetuals will increase LMRT leverage and reduce the debt \\nheadroom available for the development of LMRT’s existing assets during the uncertain macroeconomic outlook.\\n\\n• Current market conditions are not favourable for LMIR Trust for the issuance of perpetual securities at a lower yield than the \\nreset distribution rate.\\n\\nOCBC Credit Research commentary: \\n• Perpetual reset date coincided with call date, distribution rate stepped up to 8.096% from only 6.6%.\\n\\n• In our view LMRT would have found it difficult to assess primary markets without external guarantees, given the protracted \\nrecovery at LMRT’s underlying properties.',\n",
       " '• In our view LMRT would have found it difficult to assess primary markets without external guarantees, given the protracted \\nrecovery at LMRT’s underlying properties.\\n\\nLMRT is facing a tight adjusted interest coverage ratio, which suggest an elevated \\nrisk of non-payment of perpetual distribution over a 12-month outlook.\\n\\nThe issuer’s USD bonds are also trading at stressed \\nlevels.\\n\\nFrasers Property Ltd (“FPL”) \\nFPLSP 4.38%-PERP \\n17-Jan-2023 \\nHave announced will not \\ncall on first call date \\nStated reasons for non-call:  \\n• In arriving at the decision not to redeem the perpetual securities on the first call date, the longer-term interests of the issuer and \\nthe current macroeconomic and interest rate environments were taken into consideration, including: \\n• Diversification of sources of funding.\\n\\n• Current market conditions for the issuance of similar yielding perpetual securities.',\n",
       " '• Current market conditions for the issuance of similar yielding perpetual securities.\\n\\nOCBC Credit Research commentary: \\n• Perpetual distribution rate reset date does not coincide with call date, distribution rate would remain at 4.38%.\\n\\nThe first reset \\ndate only falls on January 2028.\\n\\nFPL enjoys cost savings by not replacing the perpetual.\\n\\n• Redeemed its FPLSP 3.95%-PERP in October 2022 which was structured with reset.\\n\\nGuocoLand Ltd (“GUOL”) \\nGUOLSP 4.6%-PERP \\n23-Jan-2023 \\nHave announced will not \\ncall on first call date \\nStated reasons for non-call:  \\n• General statement that the non-call was in view of the current interest rate environment.\\n\\n• Maintains flexibility to exercise the call on any distribution payment date.\\n\\nOCBC Credit Research commentary: \\n• Perpetual distribution rate reset date does not coincide with call date, distribution rate would remain at 4.6%.\\n\\nThe first reset date \\nonly falls in January 2025.\\n\\nGUOL enjoys cost savings by not replacing the perpetual.',\n",
       " 'The first reset date \\nonly falls in January 2025.\\n\\nGUOL enjoys cost savings by not replacing the perpetual.\\n\\nSource: Company, Bloomberg, OCBC Credit Research \\n \\nIssuers who had opted not to call their perpetuals would likely find difficulty in raising a new perpetual, until the \\nexisting perpetuals are redeemed, in our view.\\n\\nA non-call effectively tilts the perpetual into an “equity-like” instrument \\nwith no maturity, albeit without equity upside that comes with business growth.\\n\\nThis is comparable to preferred stock, \\nin our']"
      ]
     },
     "execution_count": 11,
     "metadata": {},
     "output_type": "execute_result"
    }
   ],
   "source": [
    "nltk_res"
   ]
  },
  {
   "cell_type": "markdown",
   "metadata": {},
   "source": [
    "The ending of each split chunk by `RecursiveCharacterTextSplitter` doesn't coincide with the end of a sentence/puncutuation, whereas `NLTKTextSplitter` captures that nuance.  \n",
    "Let's go with `NLTKTextSplitter`."
   ]
  },
  {
   "cell_type": "markdown",
   "metadata": {},
   "source": [
    "### Split PDF and assess results"
   ]
  },
  {
   "cell_type": "code",
   "execution_count": 12,
   "metadata": {},
   "outputs": [
    {
     "name": "stderr",
     "output_type": "stream",
     "text": [
      "Created a chunk of size 3503, which is longer than the specified 3000\n"
     ]
    }
   ],
   "source": [
    "chunk_size = 3000\n",
    "chunk_overlap = chunk_size * 0.1\n",
    "\n",
    "nltk_splitter = NLTKTextSplitter(chunk_size=chunk_size, chunk_overlap=chunk_overlap)\n",
    "\n",
    "split_res = nltk_splitter.split_documents(pages)"
   ]
  },
  {
   "cell_type": "code",
   "execution_count": 122,
   "metadata": {},
   "outputs": [
    {
     "data": {
      "text/plain": [
       "182"
      ]
     },
     "execution_count": 122,
     "metadata": {},
     "output_type": "execute_result"
    }
   ],
   "source": [
    "len(split_res)"
   ]
  },
  {
   "cell_type": "code",
   "execution_count": 14,
   "metadata": {},
   "outputs": [
    {
     "data": {
      "text/plain": [
       "Document(page_content='OCBC CREDIT RESEARCH \\nSGD Credit Outlook 2023 \\n \\n Wednesday, January 04, 2023 \\n \\nTreasury Research & Strategy                                                                                                                                    25 \\nChina \\n• \\n2018: Announced non-participation in the pilot \\nphase of the CORSIA \\n• \\nSep: Released \"2022 China Civil Aviation Green \\nDevelopment Policy and Action\", targeting a \\ncumulative use of 50,000 tons of SAF by 2025.\\n\\nSource: ICAO  \\n \\nSingapore is well-positioned to become an established, regional petrochemical hub that can offer a conducive \\nenvironment for developing and introducing sustainable aviation products.\\n\\nFor instance, Neste, the world’s largest \\nproducer of SAF, is expanding its production capacity in Singapore in 2023.\\n\\nIt aims to be able to roll out as much as 1 \\nmillion metric tons of SAF per annum at its facility, making Singapore Neste’s main SAF production site globally.\\n\\nShell \\nalso has plans to build a 550,000-ton a year biofuels plant in Singapore, which would supply SAF to air travel hubs \\nincluding Changi Airport and Hong Kong Airport.\\n\\nChangi Airport also has an ongoing collaboration with Exxon Mobil, \\ncreating a pilot program providing sustainable aviation fuel for Singapore Airlines and Scoot flights from Changi Airport \\nfrom July 2022.\\n\\nInvestment into Aircraft Technologies \\nJet fuel has a major impact on airline profitability, representing an estimated one-quarter of direct operating costs.\\n\\nEvery kilogram of kerosene produces 3.15 kilograms of CO2.\\n\\nAirlines therefore have an intrinsic motivation for adopting \\nmore fuel-efficient flying, taxiing and airport operations.\\n\\nThis can be mainly done through the replacement of older aircraft with newer, more fuel-efficient designs.\\n\\nEach new \\ngeneration of aircraft is roughly 15%-20% more fuel efficient.\\n\\nKey technologies include the use of more fuel-efficient \\nengines, improved aerodynamics, lightweight materials, plus advanced systems, and integrated design.\\n\\nHistorically, \\nfleet upgrading has led to modern aircrafts producing 80% less CO2 per seat than the first jets in the 1950s.\\n\\nReplacing \\nthe current commercial aircraft fleet with the most fuel-efficient aircraft in service today would also reduce fuel \\nconsumption by about 20%.\\n\\nThe IATA estimates that around 16,000 commercial passenger and cargo planes have been retired worldwide in the \\npast 35 years.\\n\\nMeanwhile, every year up to 700 jets are getting closer to the end of their lifespan.\\n\\nAccording to the \\nIATA, the global pandemic has prompted airlines worldwide to bring forward early retirement programs of older and \\nless efficient planes, especially wide-body passenger aircraft.\\n\\nBut the aircraft decommissioning process must be \\nproperly managed to prevent environmental and flight safety-related risks, according to the IATA.\\n\\nIncreased technological innovations can also increase fuel efficiency.', metadata={'source': '../data/sg_credit_outlook_1H2023.pdf', 'file_path': '../data/sg_credit_outlook_1H2023.pdf', 'page': 24, 'total_pages': 81, 'format': 'PDF 1.7', 'title': 'Credit Outlook –', 'author': 'trt2', 'subject': '', 'keywords': '', 'creator': 'Microsoft® Word for Microsoft 365', 'producer': 'Microsoft® Word for Microsoft 365', 'creationDate': \"D:20230104164538+08'00'\", 'modDate': \"D:20230105095819+08'00'\", 'trapped': ''})"
      ]
     },
     "execution_count": 14,
     "metadata": {},
     "output_type": "execute_result"
    }
   ],
   "source": [
    "split_res[50]"
   ]
  },
  {
   "cell_type": "markdown",
   "metadata": {},
   "source": [
    "## Load all PDFs and split"
   ]
  },
  {
   "cell_type": "code",
   "execution_count": 15,
   "metadata": {},
   "outputs": [
    {
     "data": {
      "text/plain": [
       "[<langchain.document_loaders.pdf.PyMuPDFLoader at 0x1db232a1990>,\n",
       " <langchain.document_loaders.pdf.PyMuPDFLoader at 0x1db2411c090>,\n",
       " <langchain.document_loaders.pdf.PyMuPDFLoader at 0x1db2411c3d0>]"
      ]
     },
     "execution_count": 15,
     "metadata": {},
     "output_type": "execute_result"
    }
   ],
   "source": [
    "path = \"../data/\"\n",
    "\n",
    "loaders = []\n",
    "\n",
    "for file in os.listdir(path):\n",
    "    if file.endswith(\".pdf\"):\n",
    "        loaders.append(PyMuPDFLoader(os.path.join(path, file)))\n",
    "\n",
    "loaders"
   ]
  },
  {
   "cell_type": "code",
   "execution_count": 16,
   "metadata": {},
   "outputs": [
    {
     "data": {
      "text/plain": [
       "208"
      ]
     },
     "execution_count": 16,
     "metadata": {},
     "output_type": "execute_result"
    }
   ],
   "source": [
    "docs = []\n",
    "for loader in loaders:\n",
    "    docs.extend(loader.load())\n",
    "\n",
    "len(docs)"
   ]
  },
  {
   "cell_type": "code",
   "execution_count": 17,
   "metadata": {},
   "outputs": [
    {
     "name": "stderr",
     "output_type": "stream",
     "text": [
      "Created a chunk of size 3503, which is longer than the specified 3000\n"
     ]
    }
   ],
   "source": [
    "# splits docs\n",
    "\n",
    "splits = nltk_splitter.split_documents(docs)"
   ]
  },
  {
   "cell_type": "code",
   "execution_count": 18,
   "metadata": {},
   "outputs": [
    {
     "data": {
      "text/plain": [
       "352"
      ]
     },
     "execution_count": 18,
     "metadata": {},
     "output_type": "execute_result"
    }
   ],
   "source": [
    "len(splits)"
   ]
  },
  {
   "cell_type": "markdown",
   "metadata": {},
   "source": [
    "## Use OpenAI word embeddings"
   ]
  },
  {
   "cell_type": "code",
   "execution_count": 19,
   "metadata": {},
   "outputs": [],
   "source": [
    "embedding = OpenAIEmbeddings()"
   ]
  },
  {
   "cell_type": "code",
   "execution_count": 20,
   "metadata": {},
   "outputs": [],
   "source": [
    "sentence1 = (\n",
    "    \"The sun sets in the evening, casting a warm orange glow across the horizon.\"\n",
    ")\n",
    "sentence2 = \"Twilight descends upon the land as the day draws to a close, painting the sky with hues of red and gold.\"\n",
    "sentence3 = \"Baby JJ crawled up the mattress to get his milk.\""
   ]
  },
  {
   "cell_type": "code",
   "execution_count": 21,
   "metadata": {},
   "outputs": [],
   "source": [
    "embedding1 = embedding.embed_query(sentence1)\n",
    "embedding2 = embedding.embed_query(sentence2)\n",
    "embedding3 = embedding.embed_query(sentence3)"
   ]
  },
  {
   "cell_type": "code",
   "execution_count": 22,
   "metadata": {},
   "outputs": [
    {
     "data": {
      "text/plain": [
       "0.903089832355181"
      ]
     },
     "execution_count": 22,
     "metadata": {},
     "output_type": "execute_result"
    }
   ],
   "source": [
    "np.dot(embedding1, embedding2)"
   ]
  },
  {
   "cell_type": "code",
   "execution_count": 23,
   "metadata": {},
   "outputs": [
    {
     "data": {
      "text/plain": [
       "(0.7355978857170626, 0.7370830702024485)"
      ]
     },
     "execution_count": 23,
     "metadata": {},
     "output_type": "execute_result"
    }
   ],
   "source": [
    "np.dot(embedding1, embedding3), np.dot(embedding2, embedding3),"
   ]
  },
  {
   "cell_type": "markdown",
   "metadata": {},
   "source": [
    "## Initialize Vectorstore"
   ]
  },
  {
   "cell_type": "markdown",
   "metadata": {},
   "source": [
    "Embeddings databases (also known as vector databases/stores) store embeddings and allow you to search by nearest neighbors rather than by substrings like a traditional database.  \n",
    "Here, Chroma is used."
   ]
  },
  {
   "cell_type": "code",
   "execution_count": 24,
   "metadata": {},
   "outputs": [],
   "source": [
    "persist_directory = \"docs/chroma\""
   ]
  },
  {
   "cell_type": "code",
   "execution_count": 25,
   "metadata": {},
   "outputs": [
    {
     "name": "stderr",
     "output_type": "stream",
     "text": [
      "100%|██████████| 1/1 [00:05<00:00,  5.47s/it]\n"
     ]
    }
   ],
   "source": [
    "vectordb = Chroma.from_documents(\n",
    "    documents=splits, embedding=embedding, persist_directory=persist_directory\n",
    ")\n",
    "\n",
    "vectordb.persist()"
   ]
  },
  {
   "cell_type": "code",
   "execution_count": 26,
   "metadata": {},
   "outputs": [
    {
     "name": "stdout",
     "output_type": "stream",
     "text": [
      "704\n"
     ]
    }
   ],
   "source": [
    "print(vectordb._collection.count())"
   ]
  },
  {
   "cell_type": "code",
   "execution_count": 27,
   "metadata": {},
   "outputs": [
    {
     "data": {
      "text/plain": [
       "False"
      ]
     },
     "execution_count": 27,
     "metadata": {},
     "output_type": "execute_result"
    }
   ],
   "source": [
    "# does vectordb count tally with total splits?\n",
    "vectordb._collection.count() == len(splits)"
   ]
  },
  {
   "cell_type": "markdown",
   "metadata": {},
   "source": [
    "## Comparing retrieval methods\n"
   ]
  },
  {
   "cell_type": "markdown",
   "metadata": {},
   "source": [
    "With the documents and embeddings in the vectorstore, there are several ways to retrieve this information.  \n",
    "Here three methods are compared: `similarity_search`, `max_marginal_relevance_search` (MMR) and `ContextualCompressionRetriever`\n",
    "\n",
    "Similarity search: Selects examples based on similarity to the inputs. It does this by finding the examples with the embeddings that have the greatest cosine similarity with the inputs.\n",
    "https://python.langchain.com/docs/modules/model_io/prompts/example_selectors/similarity\n",
    "\n",
    "MMR: Selects examples based on a combination of which examples are most similar to the inputs, while also optimizing for diversity.  \n",
    "It does this by finding the examples with the embeddings that have the greatest cosine similarity with the inputs, and then iteratively adding them while penalizing them for closeness to already selected examples.\n",
    "https://python.langchain.com/docs/modules/model_io/prompts/example_selectors/mmr"
   ]
  },
  {
   "cell_type": "markdown",
   "metadata": {},
   "source": [
    "### Similarity Search"
   ]
  },
  {
   "cell_type": "code",
   "execution_count": 28,
   "metadata": {},
   "outputs": [
    {
     "name": "stderr",
     "output_type": "stream",
     "text": [
      "100%|██████████| 1/1 [00:00<00:00,  1.99it/s]\n"
     ]
    }
   ],
   "source": [
    "texts = [\n",
    "    \"\"\"The Amanita phalloides has a large and imposing epigeous (aboveground) fruiting body (basidiocarp).\"\"\",\n",
    "    \"\"\"A mushroom with a large fruiting body is the Amanita phalloides. Some varieties are all-white.\"\"\",\n",
    "    \"\"\"A. phalloides, a.k.a Death Cap, is one of the most poisonous of all known mushrooms.\"\"\",\n",
    "]\n",
    "\n",
    "smalldb = Chroma.from_texts(texts, embedding=embedding)"
   ]
  },
  {
   "cell_type": "code",
   "execution_count": 29,
   "metadata": {},
   "outputs": [],
   "source": [
    "question = \"Tell me about all-white mushrooms with large fruiting bodies\""
   ]
  },
  {
   "cell_type": "code",
   "execution_count": 30,
   "metadata": {},
   "outputs": [
    {
     "data": {
      "text/plain": [
       "[Document(page_content='A mushroom with a large fruiting body is the Amanita phalloides. Some varieties are all-white.', metadata={}),\n",
       " Document(page_content='The Amanita phalloides has a large and imposing epigeous (aboveground) fruiting body (basidiocarp).', metadata={})]"
      ]
     },
     "execution_count": 30,
     "metadata": {},
     "output_type": "execute_result"
    }
   ],
   "source": [
    "smalldb.similarity_search(question, k=2)"
   ]
  },
  {
   "cell_type": "markdown",
   "metadata": {},
   "source": [
    "### Maximum Marginal Relevance"
   ]
  },
  {
   "cell_type": "markdown",
   "metadata": {},
   "source": [
    "MMR penalizes the second text due to its similarity with the first, and instead returns the third text which is related yet different.  \n",
    "Let's try it on our docs."
   ]
  },
  {
   "cell_type": "code",
   "execution_count": 31,
   "metadata": {},
   "outputs": [
    {
     "data": {
      "text/plain": [
       "[Document(page_content='A mushroom with a large fruiting body is the Amanita phalloides. Some varieties are all-white.', metadata={}),\n",
       " Document(page_content='A. phalloides, a.k.a Death Cap, is one of the most poisonous of all known mushrooms.', metadata={})]"
      ]
     },
     "execution_count": 31,
     "metadata": {},
     "output_type": "execute_result"
    }
   ],
   "source": [
    "smalldb.max_marginal_relevance_search(question, k=2, fetch_k=3)"
   ]
  },
  {
   "cell_type": "code",
   "execution_count": 32,
   "metadata": {},
   "outputs": [],
   "source": [
    "docs_qn = \"What is the latest update for China Evergrande?\""
   ]
  },
  {
   "cell_type": "markdown",
   "metadata": {},
   "source": [
    "Using similarity search, the first two search results are the same."
   ]
  },
  {
   "cell_type": "code",
   "execution_count": 33,
   "metadata": {},
   "outputs": [
    {
     "data": {
      "text/plain": [
       "['What next for Evergrande?\\n\\nOn 3 December 2021, EVERRE announced that it may not have sufficient funds to perform its \\nfinancial obligations given the group’s current liquidity situation and planned to work with creditors on a restructuring plan \\nfor its offshore debt.\\n\\nOn 6 December 2021, the compan',\n",
       " 'What next for Evergrande?\\n\\nOn 3 December 2021, EVERRE announced that it may not have sufficient funds to perform its \\nfinancial obligations given the group’s current liquidity situation and planned to work with creditors on a restructuring plan \\nfor its offshore debt.\\n\\nOn 6 December 2021, the compan',\n",
       " 'OCBC CREDIT RESEARCH \\nSGD Credit Outlook 2022 \\n \\nFriday, December 31, 2021 \\n \\nTreasury Research & Strategy                                                                                                                                    30 \\nCase Study: China Evergrande Group (“EVERRE”) - Towards a ']"
      ]
     },
     "execution_count": 33,
     "metadata": {},
     "output_type": "execute_result"
    }
   ],
   "source": [
    "ss_res = vectordb.similarity_search(docs_qn, k=3)\n",
    "[res.page_content[:300] for res in ss_res[:3]]"
   ]
  },
  {
   "cell_type": "markdown",
   "metadata": {},
   "source": [
    "With mmr, there are no repeating results."
   ]
  },
  {
   "cell_type": "code",
   "execution_count": 92,
   "metadata": {},
   "outputs": [
    {
     "data": {
      "text/plain": [
       "['What next for Evergrande?\\n\\nOn 3 December 2021, EVERRE announced that it may not have sufficient funds to perform its \\nfinancial obligations given the group’s current liquidity situation and planned to',\n",
       " 'Sector wide issue though China Evergrande is emblematic of the situation: What started at EVERRE in terms of liquidity \\nstress has snowballed to the rest of the market.\\n\\nIn part, the industry challeng',\n",
       " 'OCBC CREDIT RESEARCH \\nSGD Credit Outlook 2022 \\n \\nFriday, December 31, 2021 \\n \\nTreasury Research & Strategy                                                                                              ']"
      ]
     },
     "execution_count": 92,
     "metadata": {},
     "output_type": "execute_result"
    }
   ],
   "source": [
    "mmr_res = vectordb.max_marginal_relevance_search(docs_qn, k=3, fetch_k=10)\n",
    "[res.page_content[:200] for res in mmr_res[:3]]"
   ]
  },
  {
   "cell_type": "code",
   "execution_count": 93,
   "metadata": {},
   "outputs": [
    {
     "data": {
      "text/plain": [
       "'OCBC CREDIT RESEARCH \\nSGD Credit Outlook 2022 \\n \\nFriday, December 31, 2021 \\n \\nTreasury Research & Strategy                                                                                                                                    31 \\n \\nFigure 24: China Residential Buildings Price Change (70 Cities) \\n \\nSource: National Bureau of Statistics \\n \\nWhat we can glean from the situation: Aside from an adverse industry outlook, certain company-level characteristics have \\nexacerbated the situation.\\n\\nWhile EVERRE is the largest issuer with ~USD19bn of bonds outstanding (including those issued \\nby Scenery Journey Ltd, an indirect wholly-owned subsidiary of EVERRE), certain of the credit considerations leading to its \\nvulnerabilities in an adverse situation are shared by other bond issuers.\\n\\nAside from USD-bonds, EVERRE also has onshore \\nbonds issued by Hengda Real Estate Group Company Limited (“Hengda”) where Hengda is 59.9%-owned by EVERRE as at \\n31 December 2020.\\n\\nWhat you see may not be what it is: EVERRE’s latest available unaudited consolidated balance sheet as at 30 June 2021 \\nshowed total liabilities of RMB2.0 trillion.\\n\\nHowever, various media reports have surfaced that EVERRE had financed certain \\nparts of its business through wealth management products (“WMP”) mainly sold to retail investors including employees.\\n\\nIt \\nis still unclear to us what are the exact terms of such WMP and whether these are outright guaranteed by subsidiaries.\\n\\nWe \\ndo know however that we were unable to find much disclosure on the WMP in the company’s consolidated financials even \\nif these financials were audited by well-known auditors.\\n\\nIn early-September 2021, we opined in our Special Interest \\nCommentary piece that the company also has various other obligations that may still materialise if certain conditions are \\nunfulfilled.\\n\\n“Private bonds” and other liabilities have caught market by surprise: In end-September 2021, bondholders of \\nJumbo Fortune Enterprises (“Jumbo”), an entity said to have issued bonds guaranteed by EVERRE, claimed that they were \\nunpaid.\\n\\nWhile there was some mention of guarantees in relation to cooperation parties, joint ventures and associates, \\nthere was no explicit mention of a Jumbo in EVERRE’s disclosures.\\n\\nAround the same time, a smaller developer Fantasia \\nHoldings Group announced that it had not repaid bondholders who had exercised a put option on a private bond \\nguaranteed by the company.\\n\\nThis was then followed by Kaisa Group Holdings Ltd who announced that it had missed \\npayments on WMP.\\n\\nThis points towards the possibility that publicly available disclosures used by investors to track the \\ncredit health of property developer issuers may understate the actual level of liabilities.\\n\\nWhile certain private debt funds \\n(with their higher demands on information rights) may still be willing to provide bilateral financing for developers, it is hard \\nfor us to imagine traditional bond investors gaining comfort around the opacity.'"
      ]
     },
     "execution_count": 93,
     "metadata": {},
     "output_type": "execute_result"
    }
   ],
   "source": [
    "# take a closer look at the third search result\n",
    "mmr_res[2].page_content"
   ]
  },
  {
   "cell_type": "markdown",
   "metadata": {},
   "source": [
    "One thing I observed: A low `fetch_k` and a low `k` results in all results comes from the same document.  \n",
    "However, the other docs also contain information about Evergrande."
   ]
  },
  {
   "cell_type": "code",
   "execution_count": 96,
   "metadata": {},
   "outputs": [
    {
     "data": {
      "text/plain": [
       "[('../data/singapore credit outlook 2022 shell_abridged.pdf', 31),\n",
       " ('../data/singapore credit outlook 2022 shell_abridged.pdf', 29),\n",
       " ('../data/singapore credit outlook 2022 shell_abridged.pdf', 30)]"
      ]
     },
     "execution_count": 96,
     "metadata": {},
     "output_type": "execute_result"
    }
   ],
   "source": [
    "[(res.metadata[\"source\"], res.metadata[\"page\"]) for res in mmr_res[:3]]"
   ]
  },
  {
   "cell_type": "code",
   "execution_count": 97,
   "metadata": {},
   "outputs": [],
   "source": [
    "mmr_res = vectordb.max_marginal_relevance_search(docs_qn, k=10, fetch_k=200)"
   ]
  },
  {
   "cell_type": "markdown",
   "metadata": {},
   "source": [
    "Increasing `k` and `fetch_k` seems to fix this. All three documents are now being cited."
   ]
  },
  {
   "cell_type": "code",
   "execution_count": 108,
   "metadata": {},
   "outputs": [
    {
     "data": {
      "text/plain": [
       "[('../data/sg_credit_outlook_1H2023.pdf', 12),\n",
       " ('../data/sg_credit_outlook_1H2023.pdf', 54),\n",
       " ('../data/sg_credit_outlook_1H2023.pdf', 64),\n",
       " ('../data/sg_credit_outlook_1H2023.pdf', 66),\n",
       " ('../data/sg_credit_outlook_2H2023.pdf', 22),\n",
       " ('../data/singapore credit outlook 2022 shell_abridged.pdf', 29),\n",
       " ('../data/singapore credit outlook 2022 shell_abridged.pdf', 31),\n",
       " ('../data/singapore credit outlook 2022 shell_abridged.pdf', 32),\n",
       " ('../data/singapore credit outlook 2022 shell_abridged.pdf', 60),\n",
       " ('../data/singapore credit outlook 2022 shell_abridged.pdf', 80)]"
      ]
     },
     "execution_count": 108,
     "metadata": {},
     "output_type": "execute_result"
    }
   ],
   "source": [
    "sorted(\n",
    "    [(res.metadata[\"source\"], res.metadata[\"page\"]) for res in mmr_res],\n",
    "    key=lambda x: (x[0], x[1]),\n",
    ")"
   ]
  },
  {
   "cell_type": "code",
   "execution_count": 100,
   "metadata": {},
   "outputs": [
    {
     "data": {
      "text/plain": [
       "['What next for Evergrande?\\n\\nOn 3 December 2021, EVERRE announced that it may not have sufficient fund',\n",
       " 'Sector wide issue though China Evergrande is emblematic of the situation: What started at EVERRE in ',\n",
       " 'OCBC CREDIT RESEARCH \\nSGD Credit Outlook 2022 \\n \\nFriday, December 31, 2021 \\n \\nTreasury Research & St',\n",
       " 'Chiefly, Heungkuk Life Insurance Co, a South Korean insurer, announced to delay its early \\nrepayment',\n",
       " 'China earlier in 2021 \\nannounced that it would monitor financial risks related to climate change and',\n",
       " 'OCBC CREDIT RESEARCH \\nSGD Credit Outlook 2022 \\n \\nFriday, December 31, 2021 \\n \\nTreasury Research & St',\n",
       " 'Crédit Agricole Group \\nACAFP\\n3.800%\\n30-Apr-26\\nSGD325mn\\n95.96\\n5.14%\\nWe are overweight the Crédit Agri',\n",
       " 'In July \\n2021, REITs again broke new ground with Frasers Logistics and Commercial Trust issuing the ',\n",
       " 'By this time, our Macro colleagues expect greater clarity on central \\nbank resolve and peak interest',\n",
       " 'In May 2023, MINT disclosed that it will \\nbe taking on JPY loan to help fund its debut acquisition i']"
      ]
     },
     "execution_count": 100,
     "metadata": {},
     "output_type": "execute_result"
    }
   ],
   "source": [
    "[res.page_content[:100] for res in mmr_res]"
   ]
  },
  {
   "cell_type": "markdown",
   "metadata": {},
   "source": [
    "### Contextual Compression"
   ]
  },
  {
   "cell_type": "code",
   "execution_count": 37,
   "metadata": {},
   "outputs": [],
   "source": [
    "# create compressor\n",
    "compressor = LLMChainExtractor.from_llm(llm)"
   ]
  },
  {
   "cell_type": "code",
   "execution_count": 38,
   "metadata": {},
   "outputs": [],
   "source": [
    "compression_retriever = ContextualCompressionRetriever(\n",
    "    base_compressor=compressor, base_retriever=vectordb.as_retriever()\n",
    ")"
   ]
  },
  {
   "cell_type": "code",
   "execution_count": 39,
   "metadata": {},
   "outputs": [],
   "source": [
    "# Helper function for printing docs\n",
    "def pretty_print_docs(docs):\n",
    "    print(\n",
    "        f\"\\n{'-' * 100}\\n\".join(\n",
    "            [f\"Document {i+1}:\\n\\n\" + d.page_content for i, d in enumerate(docs)]\n",
    "        )\n",
    "    )"
   ]
  },
  {
   "cell_type": "code",
   "execution_count": null,
   "metadata": {},
   "outputs": [],
   "source": [
    "compressed_docs = compression_retriever.get_relevant_documents(docs_qn)\n",
    "pretty_print_docs(compressed_docs)"
   ]
  },
  {
   "cell_type": "markdown",
   "metadata": {},
   "source": [
    "`vectordb.as_retriever()` calls Class VectorStoreRetriever which, by default, uses similarity search.  \n",
    "Hence we see repeated results once more. Let's examine the results using MMR."
   ]
  },
  {
   "cell_type": "code",
   "execution_count": 41,
   "metadata": {},
   "outputs": [],
   "source": [
    "compression_retriever_mmr = ContextualCompressionRetriever(\n",
    "    base_compressor=compressor, base_retriever=vectordb.as_retriever(search_type=\"mmr\")\n",
    ")"
   ]
  },
  {
   "cell_type": "code",
   "execution_count": null,
   "metadata": {},
   "outputs": [],
   "source": [
    "compressed_docs = compression_retriever_mmr.get_relevant_documents(docs_qn)\n",
    "pretty_print_docs(compressed_docs)"
   ]
  },
  {
   "cell_type": "markdown",
   "metadata": {},
   "source": [
    "As we saw earlier, MMR gives better results compared to similarity search."
   ]
  },
  {
   "cell_type": "markdown",
   "metadata": {},
   "source": [
    "### Retrieval without vectorstores"
   ]
  },
  {
   "cell_type": "code",
   "execution_count": 118,
   "metadata": {},
   "outputs": [],
   "source": [
    "from langchain.retrievers import SVMRetriever"
   ]
  },
  {
   "cell_type": "code",
   "execution_count": 115,
   "metadata": {},
   "outputs": [],
   "source": [
    "all_docs_text = [d.page_content for d in docs]\n",
    "joined_docs_text = \" \".join(all_docs_text)"
   ]
  },
  {
   "cell_type": "code",
   "execution_count": 123,
   "metadata": {},
   "outputs": [
    {
     "name": "stderr",
     "output_type": "stream",
     "text": [
      "Created a chunk of size 1106, which is longer than the specified 1000\n",
      "Created a chunk of size 2035, which is longer than the specified 1000\n",
      "Created a chunk of size 1511, which is longer than the specified 1000\n",
      "Created a chunk of size 1355, which is longer than the specified 1000\n",
      "Created a chunk of size 5089, which is longer than the specified 1000\n",
      "Created a chunk of size 1173, which is longer than the specified 1000\n",
      "Created a chunk of size 2671, which is longer than the specified 1000\n",
      "Created a chunk of size 1954, which is longer than the specified 1000\n",
      "Created a chunk of size 2116, which is longer than the specified 1000\n",
      "Created a chunk of size 1163, which is longer than the specified 1000\n",
      "Created a chunk of size 2524, which is longer than the specified 1000\n",
      "Created a chunk of size 1109, which is longer than the specified 1000\n",
      "Created a chunk of size 1067, which is longer than the specified 1000\n",
      "Created a chunk of size 1489, which is longer than the specified 1000\n",
      "Created a chunk of size 1532, which is longer than the specified 1000\n",
      "Created a chunk of size 5058, which is longer than the specified 1000\n",
      "Created a chunk of size 1167, which is longer than the specified 1000\n",
      "Created a chunk of size 2184, which is longer than the specified 1000\n",
      "Created a chunk of size 1185, which is longer than the specified 1000\n",
      "Created a chunk of size 2049, which is longer than the specified 1000\n",
      "Created a chunk of size 1649, which is longer than the specified 1000\n",
      "Created a chunk of size 2283, which is longer than the specified 1000\n",
      "Created a chunk of size 1332, which is longer than the specified 1000\n",
      "Created a chunk of size 1365, which is longer than the specified 1000\n",
      "Created a chunk of size 3935, which is longer than the specified 1000\n",
      "Created a chunk of size 1550, which is longer than the specified 1000\n",
      "Created a chunk of size 1748, which is longer than the specified 1000\n",
      "Created a chunk of size 2051, which is longer than the specified 1000\n",
      "Created a chunk of size 1645, which is longer than the specified 1000\n",
      "Created a chunk of size 1055, which is longer than the specified 1000\n",
      "Created a chunk of size 1005, which is longer than the specified 1000\n",
      "Created a chunk of size 1832, which is longer than the specified 1000\n",
      "Created a chunk of size 1330, which is longer than the specified 1000\n",
      "Created a chunk of size 2392, which is longer than the specified 1000\n",
      "Created a chunk of size 1085, which is longer than the specified 1000\n",
      "Created a chunk of size 2612, which is longer than the specified 1000\n",
      "Created a chunk of size 2313, which is longer than the specified 1000\n",
      "Created a chunk of size 1373, which is longer than the specified 1000\n",
      "Created a chunk of size 2788, which is longer than the specified 1000\n",
      "Created a chunk of size 1909, which is longer than the specified 1000\n",
      "Created a chunk of size 1092, which is longer than the specified 1000\n",
      "Created a chunk of size 1081, which is longer than the specified 1000\n",
      "Created a chunk of size 1098, which is longer than the specified 1000\n",
      "Created a chunk of size 1077, which is longer than the specified 1000\n",
      "Created a chunk of size 2157, which is longer than the specified 1000\n"
     ]
    }
   ],
   "source": [
    "nltk_splitter = NLTKTextSplitter(chunk_size=1000, chunk_overlap=100)\n",
    "\n",
    "docs_splits = nltk_splitter.split_text(joined_docs_text)"
   ]
  },
  {
   "cell_type": "code",
   "execution_count": 124,
   "metadata": {},
   "outputs": [],
   "source": [
    "svm_retriever = SVMRetriever.from_texts(docs_splits, embedding)"
   ]
  },
  {
   "cell_type": "code",
   "execution_count": 126,
   "metadata": {},
   "outputs": [
    {
     "name": "stderr",
     "output_type": "stream",
     "text": [
      "c:\\Users\\Desmond\\Documents\\Python_projects\\finance_rag\\.venv\\Lib\\site-packages\\sklearn\\svm\\_classes.py:32: FutureWarning: The default value of `dual` will change from `True` to `'auto'` in 1.5. Set the value of `dual` explicitly to suppress the warning.\n",
      "  warnings.warn(\n"
     ]
    },
    {
     "data": {
      "text/plain": [
       "Document(page_content='This points towards further defaults for the sector.\\n\\nAmong the limited number of \\nhigh grade and “crossover” Chinese property developers, refinancing costs have increased even if access is still available.\\n\\nWhat next for Evergrande?\\n\\nOn 3 December 2021, EVERRE announced that it may not have sufficient funds to perform its \\nfinancial obligations given the group’s current liquidity situation and planned to work with creditors on a restructuring plan \\nfor its offshore debt.\\n\\nOn 6 December 2021, the company announced that it has received a demand to perform its obligations \\nunder a guarantee amounting to ~USD260mn (likely on the Jumbo bond).\\n\\nThe company subsequently announced that it \\nhas set up a seven-person risk management committee where five members comprise of non-company representatives.', metadata={})"
      ]
     },
     "execution_count": 126,
     "metadata": {},
     "output_type": "execute_result"
    }
   ],
   "source": [
    "docs_qn = \"What is the latest update for China Evergrande?\"\n",
    "docs_svm = svm_retriever.get_relevant_documents(docs_qn)\n",
    "docs_svm[0]"
   ]
  },
  {
   "cell_type": "markdown",
   "metadata": {},
   "source": [
    "It works well but metadata is missing. There's probably is a way to include metadata, but that's out of the scope for this project."
   ]
  },
  {
   "cell_type": "code",
   "execution_count": 131,
   "metadata": {},
   "outputs": [
    {
     "data": {
      "text/plain": [
       "[Document(page_content='This points towards further defaults for the sector.\\n\\nAmong the limited number of \\nhigh grade and “crossover” Chinese property developers, refinancing costs have increased even if access is still available.\\n\\nWhat next for Evergrande?\\n\\nOn 3 December 2021, EVERRE announced that it may not have sufficient funds to perform its \\nfinancial obligations given the group’s current liquidity situation and planned to work with creditors on a restructuring plan \\nfor its offshore debt.\\n\\nOn 6 December 2021, the company announced that it has received a demand to perform its obligations \\nunder a guarantee amounting to ~USD260mn (likely on the Jumbo bond).\\n\\nThe company subsequently announced that it \\nhas set up a seven-person risk management committee where five members comprise of non-company representatives.', metadata={}),\n",
       " Document(page_content='As at 30 June 2021, EVERRE’s contract liabilities which would be where such \\nobligations are likely to sit was reported at RMB215.8bn (11% of total liabilities).\\n\\nWhen minority interest may be “debt-like”: Company assets can be funded in many ways and in the case of Evergrande, \\nminority interest amounted to RMB220bn as at 30 June 2021.\\n\\nSelling stakes in subsidiaries and welcoming new minority \\ninvestors is a common business practice and often this is a smart way to mitigate business risk which may be fraught in a \\nproperty development project.\\n\\nHowever, it is worth noting that minority interest makes up 54% of Evergrande’s already \\nthin total book value of equity, begging the question of why a company as prominent as Evergrande needed so much money \\nfrom business partners and what is the specific nature of such minority interest.', metadata={}),\n",
       " Document(page_content='While we do not have the full answers, \\nminority investors in Hengda had terms which were “debt-like” as these investors had rights to redeem their stake in \\nHengda (or obtain more shares in Hengda for no consideration).\\n\\nThese were subsequently waived, averting potential \\nliquidity stress in January 2021, though it is yet unknown what the company offered in lieu of the waiver.\\n\\nStructural subordination comes into the fray: All lenders are not necessarily equal and how much each group of lenders \\ncan get back in a negotiated debt restructuring significantly depends on their bargaining power.\\n\\nSuch bargaining power is \\nin part dependent on the specific entity that lenders have lent their money to and the corporate structure of the whole \\ngroup.\\n\\nEvergrande’s USD bonds are issued out of offshore entities (of which, USD14 billion is issued out of the Cayman \\nIsland incorporated listed entity).\\n\\nSimilar to other Asiadollar bond issuers, EVERRE’s main assets are located in China.', metadata={}),\n",
       " Document(page_content='What you see may not be what it is: EVERRE’s latest available unaudited consolidated balance sheet as at 30 June 2021 \\nshowed total liabilities of RMB2.0 trillion.\\n\\nHowever, various media reports have surfaced that EVERRE had financed certain \\nparts of its business through wealth management products (“WMP”) mainly sold to retail investors including employees.\\n\\nIt \\nis still unclear to us what are the exact terms of such WMP and whether these are outright guaranteed by subsidiaries.\\n\\nWe \\ndo know however that we were unable to find much disclosure on the WMP in the company’s consolidated financials even \\nif these financials were audited by well-known auditors.\\n\\nIn early-September 2021, we opined in our Special Interest \\nCommentary piece that the company also has various other obligations that may still materialise if certain conditions are \\nunfulfilled.', metadata={})]"
      ]
     },
     "execution_count": 131,
     "metadata": {},
     "output_type": "execute_result"
    }
   ],
   "source": [
    "docs_svm"
   ]
  },
  {
   "cell_type": "markdown",
   "metadata": {},
   "source": [
    "## Question Answering"
   ]
  },
  {
   "cell_type": "code",
   "execution_count": 146,
   "metadata": {},
   "outputs": [],
   "source": [
    "qa_chain = RetrievalQA.from_chain_type(llm, retriever=vectordb.as_retriever())"
   ]
  },
  {
   "cell_type": "code",
   "execution_count": 151,
   "metadata": {},
   "outputs": [
    {
     "data": {
      "text/plain": [
       "'What is the latest update for China Evergrande?'"
      ]
     },
     "execution_count": 151,
     "metadata": {},
     "output_type": "execute_result"
    }
   ],
   "source": [
    "docs_qn"
   ]
  },
  {
   "cell_type": "code",
   "execution_count": 147,
   "metadata": {},
   "outputs": [],
   "source": [
    "result = qa_chain({\"query\": docs_qn})"
   ]
  },
  {
   "cell_type": "code",
   "execution_count": 150,
   "metadata": {},
   "outputs": [
    {
     "data": {
      "text/plain": [
       "'The latest update for China Evergrande, as of 6 December 2021, is that the company has received a demand to perform its obligations under a guarantee amounting to approximately USD260 million. This is likely related to the Jumbo bond. In response to its financial difficulties, Evergrande has set up a seven-person risk management committee, five of whom are non-company representatives. These representatives include individuals from China Cinda Asset Management Co, an asset manager focused on bad debts, and Guangdong Holdings Limited, a provincial-level state-owned company. Evergrande is planning to work with creditors on a restructuring plan for its offshore debt due to its current liquidity situation.'"
      ]
     },
     "execution_count": 150,
     "metadata": {},
     "output_type": "execute_result"
    }
   ],
   "source": [
    "result[\"result\"]"
   ]
  },
  {
   "cell_type": "code",
   "execution_count": 172,
   "metadata": {},
   "outputs": [],
   "source": [
    "# Build prompt\n",
    "template = \"\"\"Use the following pieces of context to answer the question at the end. If you don't know the answer, \n",
    "just say that you don't know, don't try to make up an answer.\n",
    "Keep the answer as concise as possible. The tone should be informative. Use bullet points.\n",
    "For each answer, indicate the year that that answer is applicable to.\n",
    "{context}\n",
    "Question: {question}\n",
    "Helpful Answer:\"\"\"\n",
    "QA_CHAIN_PROMPT = PromptTemplate.from_template(template)"
   ]
  },
  {
   "cell_type": "code",
   "execution_count": 173,
   "metadata": {},
   "outputs": [],
   "source": [
    "# Run chain\n",
    "qa_chain = RetrievalQA.from_chain_type(\n",
    "    llm,\n",
    "    retriever=vectordb.as_retriever(),\n",
    "    return_source_documents=True,\n",
    "    chain_type_kwargs={\"prompt\": QA_CHAIN_PROMPT},\n",
    ")"
   ]
  },
  {
   "cell_type": "code",
   "execution_count": 174,
   "metadata": {},
   "outputs": [],
   "source": [
    "qa_res = qa_chain(\n",
    "    {\"query\": \"What are some key developments in the high yield bond market?\"}\n",
    ")"
   ]
  },
  {
   "cell_type": "code",
   "execution_count": 175,
   "metadata": {},
   "outputs": [
    {
     "name": "stdout",
     "output_type": "stream",
     "text": [
      "- High yield bonds are more suited for investors with higher holding power due to their illiquidity, especially in stressed liquidity scenarios (2020).\n",
      "- High yield bonds can offer equity-like returns, with potential for sizable capital gains in the riskier parts of the market (2020).\n",
      "- High yield bonds are less sensitive to interest rate rises, making them an ideal investment in a rising interest rate environment (2020).\n",
      "- The SGD high yield market lacks depth and liquidity, with no reliable default rate indicators and highly concentrated defaults since 2015 (2020).\n",
      "- The opportunity set for high yield bonds expands with the inclusion of \"crossover\" bullets and perpetuals (2020).\n",
      "- Primary market issuances may have peaked in 2021 due to significant frontloading of issuances for essential refinancing (2021).\n",
      "- China's deleveraging campaign could pose a potential headwind to the high yield bond market (2021).\n",
      "- Mergers and acquisitions activities could drive issuances across investment grade and high-yield bonds (2022).\n",
      "- The growth of the Green, Social, Sustainability, and Sustainability-linked (GSSSL) market could influence the high yield bond market (2021).\n"
     ]
    }
   ],
   "source": [
    "print(qa_res[\"result\"])"
   ]
  },
  {
   "cell_type": "code",
   "execution_count": 186,
   "metadata": {},
   "outputs": [],
   "source": [
    "qa_chain_refine = RetrievalQA.from_chain_type(\n",
    "    llm,\n",
    "    retriever=vectordb.as_retriever(),\n",
    "    chain_type=\"refine\",\n",
    ")"
   ]
  },
  {
   "cell_type": "markdown",
   "metadata": {},
   "source": [
    "The output from `chain_type=\"refine\"` is a lot more structured. "
   ]
  },
  {
   "cell_type": "code",
   "execution_count": 187,
   "metadata": {},
   "outputs": [
    {
     "name": "stdout",
     "output_type": "stream",
     "text": [
      "The high yield bond market has seen several key developments:\n",
      "\n",
      "1. Peak in Primary Market Issuances: There is a belief that significant frontloading of issuances for essential refinancing could mean that primary market issuances may have already peaked in 2021.\n",
      "\n",
      "2. China's Deleveraging Campaign: The Chinese government's deleveraging policies could serve as a potential headwind. Chinese companies have contributed significantly to global bond issuances, and increased regulatory risk in certain sectors such as property, technology, tuition, food delivery, and commodities highlight the increased regulatory risk.\n",
      "\n",
      "3. Uptick in Mergers and Acquisitions: M&A activities are expected to serve as a key driver for issuances across investment grade and high-yield bonds. With many companies having covered much of their refinancing needs in 2021, corporate priorities may begin to shift towards long-term growth, business diversification and supply chain strengthening strategies. Sectors such as technology, media and telecommunications (“TMT”) and healthcare are expected to lead in terms of deal activity and potential issuances.\n",
      "\n",
      "4. Growth of the GSSSL Market: As countries and organisations pledge to make their economy carbon-neutral, various sustainable capital instruments have sprung up to aid this transition. The four main bond instruments used by organisations are Green, Social, Sustainability, and Sustainability-linked (“GSSSL”) bonds. For the GSSSL market, 2021 was an exceptional year as total issuances surpassed USD1 trillion, with both nations and companies tapping the sustainable debt capital markets to fund their investments. However, GSSSL bonds only represented approximately 4.5% to 5% of total global bond issuances in 2021.\n",
      "\n",
      "5. Limited Demand and Liquidity: High yield bonds are not as actively followed by institutional investors as high-grade bonds, leading to smaller issuance sizes. In the secondary market, liquidity for high yield bonds can be inconsistent, especially in highly stressed liquidity scenarios.\n",
      "\n",
      "6. Equity-like Returns: The riskier parts of the high yield space may offer sizable capital gains, bringing total returns closer to those typically seen in equity.\n",
      "\n",
      "7. Information Asymmetry: The market for high yield bonds is less efficient than the market for higher-grade bonds, leading to information asymmetry. A solid bottom-up understanding of an issuer is important, including whether an issuer has access to alternative funding sources and the valuation of their assets.\n",
      "\n",
      "8. Limited Options in Rising Interest Rates: In a rising interest rate environment, high yield bonds would be an ideal investment as they are less sensitive to interest rate rises. However, the SGD market is not deep and liquid enough for such a portfolio. Unlike the more mature US high yield market, there are no reliable default rate indicators in the SGD space.\n"
     ]
    }
   ],
   "source": [
    "refine_result = qa_chain_refine(\n",
    "    {\"query\": \"What are some key developments in the high yield bond market?\"}\n",
    ")\n",
    "print(refine_result[\"result\"])"
   ]
  },
  {
   "cell_type": "code",
   "execution_count": null,
   "metadata": {},
   "outputs": [
    {
     "name": "stdout",
     "output_type": "stream",
     "text": [
      "The high yield bond market has seen several key developments:\n",
      "\n",
      "1. Peak in Primary Market Issuances: There is a belief that significant frontloading of issuances for essential refinancing could mean that primary market issuances may have already peaked in 2021.\n",
      "\n",
      "2. China's Deleveraging Campaign: The Chinese government's deleveraging policies could serve as a potential headwind. Chinese companies have contributed significantly to global bond issuances, and increased regulatory risk in certain sectors such as property, technology, tuition, food delivery, and commodities highlight the increased regulatory risk.\n",
      "\n",
      "3. Uptick in Mergers and Acquisitions: M&A activities are expected to serve as a key driver for issuances across investment grade and high-yield bonds. With many companies having covered much of their refinancing needs in 2021, corporate priorities may begin to shift towards long-term growth, business diversification and supply chain strengthening strategies. Sectors such as technology, media and telecommunications (“TMT”) and healthcare are expected to lead in terms of deal activity and potential issuances.\n",
      "\n",
      "4. Growth of the GSSSL Market: As countries and organisations pledge to make their economy carbon-neutral, various sustainable capital instruments have sprung up to aid this transition. The four main bond instruments used by organisations are Green, Social, Sustainability, and Sustainability-linked (“GSSSL”) bonds. For the GSSSL market, 2021 was an exceptional year as total issuances surpassed USD1 trillion, with both nations and companies tapping the sustainable debt capital markets to fund their investments. However, GSSSL bonds only represented approximately 4.5% to 5% of total global bond issuances in 2021.\n",
      "\n",
      "5. Limited Demand and Liquidity: High yield bonds are not as actively followed by institutional investors as high-grade bonds, leading to smaller issuance sizes. In the secondary market, liquidity for high yield bonds can be inconsistent, especially in highly stressed liquidity scenarios.\n",
      "\n",
      "6. Equity-like Returns: The riskier parts of the high yield space may offer sizable capital gains, bringing total returns closer to those typically seen in equity.\n",
      "\n",
      "7. Information Asymmetry: The market for high yield bonds is less efficient than the market for higher-grade bonds, leading to information asymmetry. A solid bottom-up understanding of an issuer is important, including whether an issuer has access to alternative funding sources and the valuation of their assets.\n",
      "\n",
      "8. Limited Options in Rising Interest Rates: In a rising interest rate environment, high yield bonds would be an ideal investment as they are less sensitive to interest rate rises. However, the SGD market is not deep and liquid enough for such a portfolio. Unlike the more mature US high yield market, there are no reliable default rate indicators in the SGD space.\n"
     ]
    }
   ],
   "source": [
    "refine_result = qa_chain_refine(\n",
    "    {\"query\": \"What are some key developments in the high yield bond market?\"}\n",
    ")\n",
    "print(refine_result[\"result\"])"
   ]
  },
  {
   "cell_type": "code",
   "execution_count": null,
   "metadata": {},
   "outputs": [
    {
     "name": "stdout",
     "output_type": "stream",
     "text": [
      "The high yield bond market has seen several key developments:\n",
      "\n",
      "1. Peak in Primary Market Issuances: There is a belief that significant frontloading of issuances for essential refinancing could mean that primary market issuances may have already peaked in 2021.\n",
      "\n",
      "2. China's Deleveraging Campaign: The Chinese government's deleveraging policies could serve as a potential headwind. Chinese companies have contributed significantly to global bond issuances, and increased regulatory risk in certain sectors such as property, technology, tuition, food delivery, and commodities highlight the increased regulatory risk.\n",
      "\n",
      "3. Uptick in Mergers and Acquisitions: M&A activities are expected to serve as a key driver for issuances across investment grade and high-yield bonds. With many companies having covered much of their refinancing needs in 2021, corporate priorities may begin to shift towards long-term growth, business diversification and supply chain strengthening strategies. Sectors such as technology, media and telecommunications (“TMT”) and healthcare are expected to lead in terms of deal activity and potential issuances.\n",
      "\n",
      "4. Growth of the GSSSL Market: As countries and organisations pledge to make their economy carbon-neutral, various sustainable capital instruments have sprung up to aid this transition. The four main bond instruments used by organisations are Green, Social, Sustainability, and Sustainability-linked (“GSSSL”) bonds. For the GSSSL market, 2021 was an exceptional year as total issuances surpassed USD1 trillion, with both nations and companies tapping the sustainable debt capital markets to fund their investments. However, GSSSL bonds only represented approximately 4.5% to 5% of total global bond issuances in 2021.\n",
      "\n",
      "5. Limited Demand and Liquidity: High yield bonds are not as actively followed by institutional investors as high-grade bonds, leading to smaller issuance sizes. In the secondary market, liquidity for high yield bonds can be inconsistent, especially in highly stressed liquidity scenarios.\n",
      "\n",
      "6. Equity-like Returns: The riskier parts of the high yield space may offer sizable capital gains, bringing total returns closer to those typically seen in equity.\n",
      "\n",
      "7. Information Asymmetry: The market for high yield bonds is less efficient than the market for higher-grade bonds, leading to information asymmetry. A solid bottom-up understanding of an issuer is important, including whether an issuer has access to alternative funding sources and the valuation of their assets.\n",
      "\n",
      "8. Limited Options in Rising Interest Rates: In a rising interest rate environment, high yield bonds would be an ideal investment as they are less sensitive to interest rate rises. However, the SGD market is not deep and liquid enough for such a portfolio. Unlike the more mature US high yield market, there are no reliable default rate indicators in the SGD space.\n"
     ]
    }
   ],
   "source": [
    "refine_result = qa_chain_refine(\n",
    "    {\"query\": \"What are some key developments in the high yield bond market?\"}\n",
    ")\n",
    "print(refine_result[\"result\"])"
   ]
  },
  {
   "cell_type": "markdown",
   "metadata": {},
   "source": [
    "I did some checks and found that most of the results were coming from only one PDF (singapore credit outlook 2022 shell_abridged.pdf). I reckon it's because this PDF talks about HY relatively more than the other two.  \n",
    "\n",
    "Asking a question on Bond Indices, a topic only found in sg_credit_outlook_2H2023.pdf, returns an output - assuaging my concerns that only splits from one document were being sent to the LLM."
   ]
  },
  {
   "cell_type": "code",
   "execution_count": 189,
   "metadata": {},
   "outputs": [
    {
     "name": "stdout",
     "output_type": "stream",
     "text": [
      "Bond indices are essential tools for tracking the performance of specific segments of the bond market. They are often used as benchmarks for Bond Index Funds (BIFs), which are portfolios of bonds that aim to match the performance of a particular bond index. Some of the most common bond indices track the U.S. investment-grade bond market and the Asiadollar credit market.\n",
      "\n",
      "However, passive investing in bonds through index replication may not always be the best strategy. This is primarily due to several reasons. Firstly, bond indices are typically weighted by the amount of debt outstanding by the various issuers. This means that the most indebted issuers represent the largest proportion of the index, which can lead to a heavy weighting towards these issuers.\n",
      "\n",
      "Secondly, due to the high number of constituents, bond indices can be challenging to replicate accurately, leading to a higher tracking error. Thirdly, the relatively illiquid nature of bonds can pose challenges for replication. Lastly, the trading cost of bonds is relatively high, which can impact returns.\n",
      "\n",
      "Despite these challenges, BIFs can still be a useful investment option for certain investors. They provide exposure to a wide selection of bonds with different maturities, credit ratings, and issuers, offering diversification benefits. They also typically have lower fees than actively managed bond funds and require less frequent trading, making them a cost-effective investment option.\n",
      "\n",
      "However, like all investment options, BIFs come with risks and limitations. Investors should carefully consider these factors before investing in BIFs. Active investing may be more suitable for bonds due to the reasons mentioned above.\n"
     ]
    }
   ],
   "source": [
    "refine_result = qa_chain_refine(\n",
    "    {\"query\": \"Tell me about key characteristics of bond indices.\"}\n",
    ")\n",
    "print(refine_result[\"result\"])"
   ]
  }
 ],
 "metadata": {
  "kernelspec": {
   "display_name": ".venv",
   "language": "python",
   "name": "python3"
  },
  "language_info": {
   "codemirror_mode": {
    "name": "ipython",
    "version": 3
   },
   "file_extension": ".py",
   "mimetype": "text/x-python",
   "name": "python",
   "nbconvert_exporter": "python",
   "pygments_lexer": "ipython3",
   "version": "3.11.0"
  },
  "orig_nbformat": 4
 },
 "nbformat": 4,
 "nbformat_minor": 2
}
